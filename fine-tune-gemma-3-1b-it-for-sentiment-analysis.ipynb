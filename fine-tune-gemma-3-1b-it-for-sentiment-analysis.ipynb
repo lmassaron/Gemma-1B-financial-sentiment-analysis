{
 "cells": [
  {
   "cell_type": "markdown",
   "id": "8a286afa",
   "metadata": {
    "papermill": {
     "duration": 0.025313,
     "end_time": "2025-03-24T22:10:05.827677",
     "exception": false,
     "start_time": "2025-03-24T22:10:05.802364",
     "status": "completed"
    },
    "tags": []
   },
   "source": [
    "# Fine-tune Gemma 3 1B-IT for Sentiment Analysis\n",
    "\n",
    "This tutorial covers the **fine-tuning process** of the recently launched **Gemma 3 1B** model for **sentiment analysis** on financial and economic information. Sentiment analysis in this domain is crucial for businesses for several reasons, including:\n",
    "\n",
    "- **Market Insights**: Gaining valuable insights into market trends, investor confidence, and consumer behavior.  \n",
    "- **Risk Management**: Identifying potential reputational risks.  \n",
    "- **Investment Decisions**: Assessing the sentiment of stakeholders, investors, and the general public to evaluate investment opportunities.  \n",
    "\n",
    "Before diving into the technical aspects of fine-tuning a large language model like **Gemma**, we must first select an appropriate **dataset** to showcase its capabilities."
   ]
  },
  {
   "cell_type": "markdown",
   "id": "bf15d43c",
   "metadata": {
    "papermill": {
     "duration": 0.022353,
     "end_time": "2025-03-24T22:10:05.872906",
     "exception": false,
     "start_time": "2025-03-24T22:10:05.850553",
     "status": "completed"
    },
    "tags": []
   },
   "source": [
    "## Introducing the Gemma 3 1B-IT\n",
    "\n",
    "**Gemma 3** is Google's latest addition to its family of lightweight, state-of-the-art open AI models, designed to deliver high performance while being resource-efficient. The **1B Instruct** version of **Gemma 3** is tailored for **instruction-based tasks**, offering developers an accessible and powerful tool for creating intelligent applications.  \n",
    "\n",
    "Announcement: [Gemma 3 Blog Post](https://blog.google/technology/developers/gemma-3/)\n",
    "\n",
    "Gemma 3 features a **transformer architecture** optimized with advanced techniques like **RoPE embeddings** and **GeGLU activations**, enabling sophisticated reasoning and text generation capabilities.\n",
    "\n",
    "Key Features:\n",
    "- **128K-token context window**: Allows processing and understanding of vast amounts of information.  \n",
    "- **Multilingual support**: Over **140 languages**, ideal for global applications.  \n",
    "- **Multimodal capabilities**: Supports text, images, and videos, enabling interactive AI solutions.  \n",
    "- **Edge device optimization**: Efficiently runs on consumer hardware with a single GPU, making it accessible for developers with limited resources.\n",
    "\n",
    "Resources:\n",
    "- [Gemma 3 Model Overview](https://ai.google.dev/gemma/docs/core)  \n",
    "- [Gemma 3 Technical Report](https://storage.googleapis.com/deepmind-media/gemma/Gemma3Report.pdf)  \n",
    "- [Gemma 3 Model Card](https://ai.google.dev/gemma/docs/core/model_card_3)"
   ]
  },
  {
   "cell_type": "markdown",
   "id": "717fdafb",
   "metadata": {
    "papermill": {
     "duration": 0.022513,
     "end_time": "2025-03-24T22:10:05.918345",
     "exception": false,
     "start_time": "2025-03-24T22:10:05.895832",
     "status": "completed"
    },
    "tags": []
   },
   "source": [
    "## Dataset Selection\n",
    "\n",
    "Annotated datasets for finance and economic texts are relatively rare, with many being proprietary. To address this challenge, researchers from the **Aalto University School of Business** introduced the **FinancialPhraseBank Dataset** in 2014, which contains approximately **5,000 sentences**.  \n",
    "\n",
    "This dataset provides **human-annotated benchmarks**, allowing for consistent evaluation of different modeling techniques. The annotations were performed by **16 individuals** with a background in **financial markets**, who categorized the sentences as having a:\n",
    "\n",
    "- **Positive** impact on stock prices  \n",
    "- **Negative** impact on stock prices  \n",
    "- **Neutral** impact on stock prices  \n",
    "\n",
    "The impact was assessed from an **investor's perspective**."
   ]
  },
  {
   "cell_type": "markdown",
   "id": "c9878649",
   "metadata": {
    "papermill": {
     "duration": 0.022547,
     "end_time": "2025-03-24T22:10:05.963915",
     "exception": false,
     "start_time": "2025-03-24T22:10:05.941368",
     "status": "completed"
    },
    "tags": []
   },
   "source": [
    "## More on the FinancialPhraseBank Dataset\n",
    "\n",
    "The **FinancialPhraseBank** dataset is a comprehensive collection of **financial news headlines** analyzed from the viewpoint of **retail investors**. It includes two key columns:\n",
    "\n",
    "- **Sentiment**: Classified as **negative**, **neutral**, or **positive**.  \n",
    "- **News Headline**: The actual **financial news snippet**.\n",
    "\n",
    "This dataset has been widely used in research, including the study by **Malo, P.**, **Sinha, A.**, **Korhonen, P.**, **Wallenius, J.**, and **Takala, P.**, titled \"*Good Debt or Bad Debt: Detecting Semantic Orientations in Economic Texts*\" (published in the **Journal of the Association for Information Science and Technology**, 2014)."
   ]
  },
  {
   "cell_type": "markdown",
   "id": "669f7cdf",
   "metadata": {
    "papermill": {
     "duration": 0.022595,
     "end_time": "2025-03-24T22:10:06.009149",
     "exception": false,
     "start_time": "2025-03-24T22:10:05.986554",
     "status": "completed"
    },
    "tags": []
   },
   "source": [
    "## Required Libraries\n",
    "\n",
    "To implement this tutorial, we need to install several essential libraries:"
   ]
  },
  {
   "cell_type": "code",
   "execution_count": 1,
   "id": "c538b145",
   "metadata": {
    "execution": {
     "iopub.execute_input": "2025-03-24T22:10:06.056513Z",
     "iopub.status.busy": "2025-03-24T22:10:06.056202Z",
     "iopub.status.idle": "2025-03-24T22:10:18.344980Z",
     "shell.execute_reply": "2025-03-24T22:10:18.343956Z"
    },
    "papermill": {
     "duration": 12.313997,
     "end_time": "2025-03-24T22:10:18.346623",
     "exception": false,
     "start_time": "2025-03-24T22:10:06.032626",
     "status": "completed"
    },
    "tags": []
   },
   "outputs": [
    {
     "name": "stdout",
     "output_type": "stream",
     "text": [
      "\u001b[2K   \u001b[90m━━━━━━━━━━━━━━━━━━━━━━━━━━━━━━━━━━━━━━━━\u001b[0m \u001b[32m10.2/10.2 MB\u001b[0m \u001b[31m91.5 MB/s\u001b[0m eta \u001b[36m0:00:00\u001b[0m\r\n",
      "\u001b[?25h"
     ]
    }
   ],
   "source": [
    "!pip install -q -U transformers"
   ]
  },
  {
   "cell_type": "code",
   "execution_count": 2,
   "id": "9c941c87",
   "metadata": {
    "execution": {
     "iopub.execute_input": "2025-03-24T22:10:18.397525Z",
     "iopub.status.busy": "2025-03-24T22:10:18.397189Z",
     "iopub.status.idle": "2025-03-24T22:10:40.151531Z",
     "shell.execute_reply": "2025-03-24T22:10:40.150632Z"
    },
    "papermill": {
     "duration": 21.781426,
     "end_time": "2025-03-24T22:10:40.153234",
     "exception": false,
     "start_time": "2025-03-24T22:10:18.371808",
     "status": "completed"
    },
    "tags": []
   },
   "outputs": [
    {
     "name": "stdout",
     "output_type": "stream",
     "text": [
      "\u001b[2K   \u001b[90m━━━━━━━━━━━━━━━━━━━━━━━━━━━━━━━━━━━━━━━━\u001b[0m \u001b[32m345.1/345.1 kB\u001b[0m \u001b[31m13.5 MB/s\u001b[0m eta \u001b[36m0:00:00\u001b[0m\r\n",
      "\u001b[2K   \u001b[90m━━━━━━━━━━━━━━━━━━━━━━━━━━━━━━━━━━━━━━━━\u001b[0m \u001b[32m487.4/487.4 kB\u001b[0m \u001b[31m12.3 MB/s\u001b[0m eta \u001b[36m0:00:00\u001b[0m\r\n",
      "\u001b[2K   \u001b[90m━━━━━━━━━━━━━━━━━━━━━━━━━━━━━━━━━━━━━━━━\u001b[0m \u001b[32m410.8/410.8 kB\u001b[0m \u001b[31m16.0 MB/s\u001b[0m eta \u001b[36m0:00:00\u001b[0m\r\n",
      "\u001b[2K   \u001b[90m━━━━━━━━━━━━━━━━━━━━━━━━━━━━━━━━━━━━━━━━\u001b[0m \u001b[32m76.1/76.1 MB\u001b[0m \u001b[31m23.4 MB/s\u001b[0m eta \u001b[36m0:00:00\u001b[0m\r\n",
      "\u001b[2K   \u001b[90m━━━━━━━━━━━━━━━━━━━━━━━━━━━━━━━━━━━━━━━━\u001b[0m \u001b[32m335.7/335.7 kB\u001b[0m \u001b[31m12.9 MB/s\u001b[0m eta \u001b[36m0:00:00\u001b[0m\r\n",
      "\u001b[?25h"
     ]
    }
   ],
   "source": [
    "!pip install -q -U accelerate\n",
    "!pip install -q -U datasets\n",
    "!pip install -q -U peft\n",
    "!pip install -q -i https://pypi.org/simple/ bitsandbytes\n",
    "!pip install -q -U trl"
   ]
  },
  {
   "cell_type": "markdown",
   "id": "b919168d",
   "metadata": {
    "papermill": {
     "duration": 0.02413,
     "end_time": "2025-03-24T22:10:40.202924",
     "exception": false,
     "start_time": "2025-03-24T22:10:40.178794",
     "status": "completed"
    },
    "tags": []
   },
   "source": [
    "### Explanation of Key Libraries  \n",
    "\n",
    "- **`transformers`**: Provides a framework to handle **pre-trained NLP models** for tasks like **text classification** and **question answering**.  \n",
    "\n",
    "- **`accelerate`**: A distributed training library by Hugging Face designed for **parallelizing training** across multiple **GPUs or CPUs**.  \n",
    "\n",
    "- **`peft`**: A library for **parameter-efficient fine-tuning (PEFT)** of pre-trained language models, including support for **LoRA (Low-Rank Adaptation)**.  \n",
    "\n",
    "- **`trl`**: A Hugging Face library for training **transformer models** with **supervised fine-tuning** or **reinforcement learning techniques**.  \n"
   ]
  },
  {
   "cell_type": "markdown",
   "id": "59992b92",
   "metadata": {
    "papermill": {
     "duration": 0.025429,
     "end_time": "2025-03-24T22:10:40.252806",
     "exception": false,
     "start_time": "2025-03-24T22:10:40.227377",
     "status": "completed"
    },
    "tags": []
   },
   "source": [
    "## Setting Environment Variables\n",
    "\n",
    "The following code sets environment variables to configure the GPU usage and suppress unnecessary warnings:"
   ]
  },
  {
   "cell_type": "code",
   "execution_count": 3,
   "id": "fb55b2ee",
   "metadata": {
    "execution": {
     "iopub.execute_input": "2025-03-24T22:10:40.303359Z",
     "iopub.status.busy": "2025-03-24T22:10:40.303028Z",
     "iopub.status.idle": "2025-03-24T22:10:40.306924Z",
     "shell.execute_reply": "2025-03-24T22:10:40.306261Z"
    },
    "papermill": {
     "duration": 0.030559,
     "end_time": "2025-03-24T22:10:40.308152",
     "exception": false,
     "start_time": "2025-03-24T22:10:40.277593",
     "status": "completed"
    },
    "tags": []
   },
   "outputs": [],
   "source": [
    "import os\n",
    "os.environ[\"CUDA_VISIBLE_DEVICES\"] = \"0\" # Use the first GPU\n",
    "os.environ[\"TOKENIZERS_PARALLELISM\"] = \"false\" # Disable tokenization parallelism"
   ]
  },
  {
   "cell_type": "markdown",
   "id": "228965a2",
   "metadata": {
    "papermill": {
     "duration": 0.024066,
     "end_time": "2025-03-24T22:10:40.356819",
     "exception": false,
     "start_time": "2025-03-24T22:10:40.332753",
     "status": "completed"
    },
    "tags": []
   },
   "source": [
    "## Suppressing Warnings\n",
    "\n",
    "During training, several warnings may appear that do not impact the fine-tuning process but can be distracting. To suppress them:"
   ]
  },
  {
   "cell_type": "code",
   "execution_count": 4,
   "id": "df9cf1b3",
   "metadata": {
    "execution": {
     "iopub.execute_input": "2025-03-24T22:10:40.406337Z",
     "iopub.status.busy": "2025-03-24T22:10:40.406076Z",
     "iopub.status.idle": "2025-03-24T22:10:40.409137Z",
     "shell.execute_reply": "2025-03-24T22:10:40.408538Z"
    },
    "papermill": {
     "duration": 0.029359,
     "end_time": "2025-03-24T22:10:40.410525",
     "exception": false,
     "start_time": "2025-03-24T22:10:40.381166",
     "status": "completed"
    },
    "tags": []
   },
   "outputs": [],
   "source": [
    "import warnings\n",
    "warnings.filterwarnings(\"ignore\")"
   ]
  },
  {
   "cell_type": "markdown",
   "id": "329a3e6d",
   "metadata": {
    "papermill": {
     "duration": 0.024286,
     "end_time": "2025-03-24T22:10:40.459619",
     "exception": false,
     "start_time": "2025-03-24T22:10:40.435333",
     "status": "completed"
    },
    "tags": []
   },
   "source": [
    "## Importing Necessary Libraries\n",
    "\n",
    "The following Python libraries are required for running the fine-tuning process:"
   ]
  },
  {
   "cell_type": "code",
   "execution_count": 5,
   "id": "bfe50d8e",
   "metadata": {
    "execution": {
     "iopub.execute_input": "2025-03-24T22:10:40.508902Z",
     "iopub.status.busy": "2025-03-24T22:10:40.508616Z",
     "iopub.status.idle": "2025-03-24T22:11:07.023716Z",
     "shell.execute_reply": "2025-03-24T22:11:07.022701Z"
    },
    "papermill": {
     "duration": 26.541835,
     "end_time": "2025-03-24T22:11:07.025458",
     "exception": false,
     "start_time": "2025-03-24T22:10:40.483623",
     "status": "completed"
    },
    "tags": []
   },
   "outputs": [],
   "source": [
    "import numpy as np\n",
    "import pandas as pd\n",
    "import os\n",
    "from tqdm import tqdm\n",
    "\n",
    "import torch\n",
    "import torch.nn as nn\n",
    "\n",
    "import transformers\n",
    "from transformers import (AutoModelForCausalLM, \n",
    "                          AutoTokenizer, \n",
    "                          BitsAndBytesConfig, \n",
    "                          TrainingArguments, \n",
    "                          pipeline, \n",
    "                          logging)\n",
    "\n",
    "from transformers.models.gemma3 import Gemma3ForCausalLM\n",
    "\n",
    "from datasets import Dataset\n",
    "from peft import LoraConfig, PeftConfig, PeftModel\n",
    "from trl import SFTTrainer, SFTConfig\n",
    "import bitsandbytes as bnb\n",
    "\n",
    "from sklearn.metrics import (accuracy_score, \n",
    "                             classification_report, \n",
    "                             confusion_matrix)\n",
    "\n",
    "from sklearn.model_selection import train_test_split"
   ]
  },
  {
   "cell_type": "markdown",
   "id": "0f4b2ed0",
   "metadata": {
    "papermill": {
     "duration": 0.02584,
     "end_time": "2025-03-24T22:11:07.076074",
     "exception": false,
     "start_time": "2025-03-24T22:11:07.050234",
     "status": "completed"
    },
    "tags": []
   },
   "source": [
    "To check the installed version of the transformers library:"
   ]
  },
  {
   "cell_type": "code",
   "execution_count": 6,
   "id": "13c070e6",
   "metadata": {
    "execution": {
     "iopub.execute_input": "2025-03-24T22:11:07.125200Z",
     "iopub.status.busy": "2025-03-24T22:11:07.124899Z",
     "iopub.status.idle": "2025-03-24T22:11:07.129468Z",
     "shell.execute_reply": "2025-03-24T22:11:07.128556Z"
    },
    "papermill": {
     "duration": 0.030529,
     "end_time": "2025-03-24T22:11:07.130653",
     "exception": false,
     "start_time": "2025-03-24T22:11:07.100124",
     "status": "completed"
    },
    "tags": []
   },
   "outputs": [
    {
     "name": "stdout",
     "output_type": "stream",
     "text": [
      "transformers==4.50.0\n"
     ]
    }
   ],
   "source": [
    "print(f\"transformers=={transformers.__version__}\")"
   ]
  },
  {
   "cell_type": "markdown",
   "id": "a8533671",
   "metadata": {
    "papermill": {
     "duration": 0.023862,
     "end_time": "2025-03-24T22:11:07.178584",
     "exception": false,
     "start_time": "2025-03-24T22:11:07.154722",
     "status": "completed"
    },
    "tags": []
   },
   "source": [
    "This function determines the best computing device for running the tutorial:"
   ]
  },
  {
   "cell_type": "code",
   "execution_count": 7,
   "id": "5e3eff00",
   "metadata": {
    "execution": {
     "iopub.execute_input": "2025-03-24T22:11:07.272116Z",
     "iopub.status.busy": "2025-03-24T22:11:07.271793Z",
     "iopub.status.idle": "2025-03-24T22:11:07.276392Z",
     "shell.execute_reply": "2025-03-24T22:11:07.275661Z"
    },
    "papermill": {
     "duration": 0.031571,
     "end_time": "2025-03-24T22:11:07.277681",
     "exception": false,
     "start_time": "2025-03-24T22:11:07.246110",
     "status": "completed"
    },
    "tags": []
   },
   "outputs": [],
   "source": [
    "def define_device():\n",
    "    \"\"\"Determine and return the optimal PyTorch device based on availability.\"\"\"\n",
    "    \n",
    "    print(f\"PyTorch version: {torch.__version__}\", end=\" -- \")\n",
    "\n",
    "    # Check if MPS (Metal Performance Shaders) is available for macOS\n",
    "    if hasattr(torch.backends, \"mps\") and torch.backends.mps.is_available():\n",
    "        print(\"using MPS device on macOS\")\n",
    "        return torch.device(\"mps\")\n",
    "\n",
    "    # Check for CUDA availability\n",
    "    device = torch.device(\"cuda\" if torch.cuda.is_available() else \"cpu\")\n",
    "    print(f\"using {device}\")\n",
    "    return device"
   ]
  },
  {
   "cell_type": "markdown",
   "id": "1df61bd7",
   "metadata": {
    "papermill": {
     "duration": 0.024635,
     "end_time": "2025-03-24T22:11:07.327335",
     "exception": false,
     "start_time": "2025-03-24T22:11:07.302700",
     "status": "completed"
    },
    "tags": []
   },
   "source": [
    "This code initializes the Gemma 3 1B model for causal language modeling, ensuring optimal settings based on the available hardware.  \n",
    "\n",
    "* If the GPU supports **bfloat16** (available on GPUs with Compute Capability **8.0+**), it is used for computations.  \n",
    "  Otherwise, **float16** is used as the default.  \n",
    "\n",
    "* **Device Selection:**  \n",
    "  * The function `define_device()` selects the best available device (**CPU, CUDA, or MPS**).  \n",
    "\n",
    "* **Model Initialization:**  \n",
    "  * The model is loaded with memory-efficient configurations, including `low_cpu_mem_usage=True`, and assigned to the selected device.  \n",
    "\n",
    "* **Tokenizer Setup:**  \n",
    "  * A **tokenizer** is initialized with a **maximum sequence length of 8192**.  \n",
    "  * The **end-of-sequence (EOS) token** is stored for later use.  "
   ]
  },
  {
   "cell_type": "code",
   "execution_count": 8,
   "id": "6deff542",
   "metadata": {
    "execution": {
     "iopub.execute_input": "2025-03-24T22:11:07.377109Z",
     "iopub.status.busy": "2025-03-24T22:11:07.376818Z",
     "iopub.status.idle": "2025-03-24T22:11:27.461431Z",
     "shell.execute_reply": "2025-03-24T22:11:27.460674Z"
    },
    "papermill": {
     "duration": 20.11123,
     "end_time": "2025-03-24T22:11:27.463036",
     "exception": false,
     "start_time": "2025-03-24T22:11:07.351806",
     "status": "completed"
    },
    "tags": []
   },
   "outputs": [
    {
     "name": "stdout",
     "output_type": "stream",
     "text": [
      "Using compute dtype torch.float16\n",
      "PyTorch version: 2.5.1+cu121 -- using cuda\n",
      "Operating on cuda\n"
     ]
    }
   ],
   "source": [
    "# Determine optimal computation dtype based on GPU capability\n",
    "compute_dtype = torch.bfloat16 if torch.cuda.get_device_capability()[0] >= 8 else torch.float16\n",
    "print(f\"Using compute dtype {compute_dtype}\")\n",
    "\n",
    "# Select the best available device (CPU, CUDA, or MPS)\n",
    "device = define_device()\n",
    "print(f\"Operating on {device}\")\n",
    "\n",
    "# Path to the pre-trained model\n",
    "GEMMA_PATH = \"/kaggle/input/gemma-3/transformers/gemma-3-1b-it/1\"\n",
    "\n",
    "# Load the model with optimized settings\n",
    "model = Gemma3ForCausalLM.from_pretrained(\n",
    "    GEMMA_PATH,\n",
    "    torch_dtype=compute_dtype,\n",
    "    attn_implementation=\"eager\",\n",
    "    low_cpu_mem_usage=True,\n",
    "    device_map=device\n",
    ")\n",
    "\n",
    "# Define maximum sequence length for the tokenizer\n",
    "max_seq_length = 8192\n",
    "\n",
    "# Load the tokenizer\n",
    "tokenizer = AutoTokenizer.from_pretrained(\n",
    "    GEMMA_PATH, \n",
    "    max_seq_length=max_seq_length,\n",
    "    device_map=device\n",
    ")\n",
    "\n",
    "# Store the EOS token for later use\n",
    "EOS_TOKEN = tokenizer.eos_token"
   ]
  },
  {
   "cell_type": "markdown",
   "id": "c4acee33",
   "metadata": {
    "papermill": {
     "duration": 0.023946,
     "end_time": "2025-03-24T22:11:27.511996",
     "exception": false,
     "start_time": "2025-03-24T22:11:27.488050",
     "status": "completed"
    },
    "tags": []
   },
   "source": [
    "Before proceeding, let's ensures that the entire model is correctly moved to the GPU.\n"
   ]
  },
  {
   "cell_type": "code",
   "execution_count": 9,
   "id": "f49dc5f1",
   "metadata": {
    "execution": {
     "iopub.execute_input": "2025-03-24T22:11:27.561334Z",
     "iopub.status.busy": "2025-03-24T22:11:27.561018Z",
     "iopub.status.idle": "2025-03-24T22:11:27.567165Z",
     "shell.execute_reply": "2025-03-24T22:11:27.566347Z"
    },
    "papermill": {
     "duration": 0.03209,
     "end_time": "2025-03-24T22:11:27.568436",
     "exception": false,
     "start_time": "2025-03-24T22:11:27.536346",
     "status": "completed"
    },
    "tags": []
   },
   "outputs": [
    {
     "name": "stdout",
     "output_type": "stream",
     "text": [
      "Model is on GPU: True\n"
     ]
    }
   ],
   "source": [
    "is_on_gpu = all(param.device.type == 'cuda' for param in model.parameters())\n",
    "print(\"Model is on GPU:\", is_on_gpu)"
   ]
  },
  {
   "cell_type": "markdown",
   "id": "4347a30b",
   "metadata": {
    "papermill": {
     "duration": 0.023845,
     "end_time": "2025-03-24T22:11:27.616678",
     "exception": false,
     "start_time": "2025-03-24T22:11:27.592833",
     "status": "completed"
    },
    "tags": []
   },
   "source": [
    "The following code prepares the dataset for fine-tuning a sentiment analysis model using Gemma. It follows these steps:  \n",
    "\n",
    "1. **Load Dataset**  \n",
    "   * Reads the dataset from `all-data.csv`, which contains two columns:  \n",
    "     - **sentiment**: The sentiment label (positive, neutral, negative).  \n",
    "     - **text**: The financial news headlines.  \n",
    "\n",
    "2. **Stratified Train-Test Split**  \n",
    "   * The dataset is split into **training** and **test** sets, each containing **300 samples per sentiment class**.  \n",
    "   * **Stratification** ensures that each set has an equal distribution of positive, neutral, and negative examples.  \n",
    "\n",
    "3. **Shuffle Training Data**  \n",
    "   * The training data is shuffled using `random_state=10` to ensure **replicability**.  \n",
    "\n",
    "4. **Prepare Evaluation Data**  \n",
    "   * The remaining (unselected) data is assigned to an **evaluation set (`X_eval`)**.  \n",
    "   * To ensure **balanced evaluation**, each sentiment class is resampled to have **50 instances** (negative samples are duplicated if needed).  \n",
    "\n",
    "5. **Convert Text into Prompts**  \n",
    "   * The **training** and **evaluation** data are transformed into **prompts** that instruct the model to classify sentiment.  \n",
    "   * **Training prompts** include sentiment labels (used for fine-tuning).  \n",
    "   * **Test prompts** omit sentiment labels (used for inference).  \n",
    "\n",
    "6. **Wrap Data Using Hugging Face's Dataset Class**  \n",
    "   * Converts `train_data`, `eval_data`, and `test_data` into **Hugging Face Dataset objects** for compatibility with the training pipeline."
   ]
  },
  {
   "cell_type": "code",
   "execution_count": 10,
   "id": "4731837f",
   "metadata": {
    "execution": {
     "iopub.execute_input": "2025-03-24T22:11:27.665860Z",
     "iopub.status.busy": "2025-03-24T22:11:27.665617Z",
     "iopub.status.idle": "2025-03-24T22:11:27.739892Z",
     "shell.execute_reply": "2025-03-24T22:11:27.739189Z"
    },
    "papermill": {
     "duration": 0.100751,
     "end_time": "2025-03-24T22:11:27.741611",
     "exception": false,
     "start_time": "2025-03-24T22:11:27.640860",
     "status": "completed"
    },
    "tags": []
   },
   "outputs": [],
   "source": [
    "# Load dataset\n",
    "filename = \"../input/sentiment-analysis-for-financial-news/all-data.csv\"\n",
    "df = pd.read_csv(filename, \n",
    "                 names=[\"sentiment\", \"text\"],\n",
    "                 encoding=\"utf-8\", encoding_errors=\"replace\")\n",
    "\n",
    "# Initialize lists for train and test sets\n",
    "X_train, X_test = [], []\n",
    "\n",
    "# Stratified train-test split (300 per sentiment)\n",
    "for sentiment in [\"positive\", \"neutral\", \"negative\"]:\n",
    "    train, test = train_test_split(df[df.sentiment == sentiment], \n",
    "                                   train_size=300,\n",
    "                                   test_size=300, \n",
    "                                   random_state=42, \n",
    "                                   stratify=df[df.sentiment == sentiment][\"sentiment\"])\n",
    "    X_train.append(train)\n",
    "    X_test.append(test)\n",
    "\n",
    "# Combine and shuffle training data\n",
    "X_train = pd.concat(X_train).sample(frac=1, random_state=10).reset_index(drop=True)\n",
    "X_test = pd.concat(X_test).reset_index(drop=True)\n",
    "\n",
    "# Identify indices not included in train or test sets\n",
    "selected_indices = set(X_train.index) | set(X_test.index)\n",
    "X_eval = df.loc[~df.index.isin(selected_indices)].copy()\n",
    "\n",
    "# Resample evaluation data to maintain class balance (50 per class, with replacement for minority class)\n",
    "X_eval = X_eval.groupby('sentiment', group_keys=False).apply(\n",
    "    lambda x: x.sample(n=50, random_state=10, replace=True)\n",
    ").reset_index(drop=True)"
   ]
  },
  {
   "cell_type": "code",
   "execution_count": 11,
   "id": "f23fbec8",
   "metadata": {
    "execution": {
     "iopub.execute_input": "2025-03-24T22:11:27.792923Z",
     "iopub.status.busy": "2025-03-24T22:11:27.792596Z",
     "iopub.status.idle": "2025-03-24T22:11:27.796681Z",
     "shell.execute_reply": "2025-03-24T22:11:27.795962Z"
    },
    "papermill": {
     "duration": 0.030538,
     "end_time": "2025-03-24T22:11:27.797904",
     "exception": false,
     "start_time": "2025-03-24T22:11:27.767366",
     "status": "completed"
    },
    "tags": []
   },
   "outputs": [],
   "source": [
    "# Function to generate training and evaluation prompts\n",
    "def generate_train_prompt(data_point):\n",
    "    return f\"\"\"\n",
    "    Analyze the sentiment of the news headline enclosed in square brackets. \n",
    "    Determine if it is positive, neutral, or negative, and return the corresponding sentiment label:\n",
    "    \"positive\", \"neutral\", or \"negative\".\n",
    "\n",
    "    [{data_point[\"text\"]}] = {data_point[\"sentiment\"]}\n",
    "    \"\"\".strip() + EOS_TOKEN\n",
    "\n",
    "# Function to generate test prompts (without expected answer)\n",
    "def generate_test_prompt(data_point):\n",
    "    return f\"\"\"\n",
    "    Analyze the sentiment of the news headline enclosed in square brackets. \n",
    "    Determine if it is positive, neutral, or negative, and return the corresponding sentiment label:\n",
    "    \"positive\", \"neutral\", or \"negative\".\n",
    "\n",
    "    [{data_point[\"text\"]}] = \n",
    "    \"\"\".strip()"
   ]
  },
  {
   "cell_type": "code",
   "execution_count": 12,
   "id": "85b7c019",
   "metadata": {
    "execution": {
     "iopub.execute_input": "2025-03-24T22:11:27.847179Z",
     "iopub.status.busy": "2025-03-24T22:11:27.846937Z",
     "iopub.status.idle": "2025-03-24T22:11:27.876569Z",
     "shell.execute_reply": "2025-03-24T22:11:27.875951Z"
    },
    "papermill": {
     "duration": 0.055384,
     "end_time": "2025-03-24T22:11:27.877799",
     "exception": false,
     "start_time": "2025-03-24T22:11:27.822415",
     "status": "completed"
    },
    "tags": []
   },
   "outputs": [],
   "source": [
    "# Apply prompt generation to datasets\n",
    "X_train = pd.DataFrame(X_train.apply(generate_train_prompt, axis=1), columns=[\"text\"])\n",
    "X_eval = pd.DataFrame(X_eval.apply(generate_train_prompt, axis=1), columns=[\"text\"])\n",
    "\n",
    "# Store ground truth labels for test data\n",
    "y_true = X_test[\"sentiment\"]\n",
    "X_test = pd.DataFrame(X_test.apply(generate_test_prompt, axis=1), columns=[\"text\"])\n",
    "\n",
    "# Convert to Hugging Face Dataset format\n",
    "train_data = Dataset.from_pandas(X_train)\n",
    "eval_data = Dataset.from_pandas(X_eval)"
   ]
  },
  {
   "cell_type": "markdown",
   "id": "bb41479a",
   "metadata": {
    "papermill": {
     "duration": 0.024795,
     "end_time": "2025-03-24T22:11:27.927374",
     "exception": false,
     "start_time": "2025-03-24T22:11:27.902579",
     "status": "completed"
    },
    "tags": []
   },
   "source": [
    "The following function evaluates the performance of our **fine-tuned sentiment analysis model** by performing the following tasks:\n",
    "\n",
    "**1. Map Sentiment Labels to Numeric Values**\n",
    "- **Positive** → `2`\n",
    "- **Neutral** → `1`\n",
    "- **Negative** → `0`\n",
    "- Additionally, handles cases where the label is `'none'` by mapping it to **`1 (neutral)`**.\n",
    "\n",
    "**2. Calculate Overall Accuracy**\n",
    "- Computes the accuracy of the model predictions (`y_pred`) compared to the actual sentiment labels (`y_true`).\n",
    "\n",
    "**3. Compute Accuracy for Each Sentiment Label**\n",
    "- Extracts **accuracy scores** separately for:\n",
    "  - **Positive**\n",
    "  - **Neutral**\n",
    "  - **Negative**\n",
    "\n",
    "**4. Generate a Classification Report**\n",
    "- Prints **precision, recall, and F1-score** for each sentiment category.\n",
    "\n",
    "**5. Compute and Display the Confusion Matrix**\n",
    "- Displays a **confusion matrix** to show how often the model misclassifies sentiments (e.g., predicting **neutral** instead of **positive**).\n"
   ]
  },
  {
   "cell_type": "code",
   "execution_count": 13,
   "id": "a0e5647d",
   "metadata": {
    "execution": {
     "iopub.execute_input": "2025-03-24T22:11:27.978868Z",
     "iopub.status.busy": "2025-03-24T22:11:27.978587Z",
     "iopub.status.idle": "2025-03-24T22:11:27.984535Z",
     "shell.execute_reply": "2025-03-24T22:11:27.983817Z"
    },
    "papermill": {
     "duration": 0.032218,
     "end_time": "2025-03-24T22:11:27.985724",
     "exception": false,
     "start_time": "2025-03-24T22:11:27.953506",
     "status": "completed"
    },
    "tags": []
   },
   "outputs": [],
   "source": [
    "def evaluate(y_true, y_pred):\n",
    "    \"\"\"Evaluate the fine-tuned sentiment model's performance.\"\"\"\n",
    "    \n",
    "    # Define sentiment label mapping\n",
    "    label_mapping = {'positive': 2, 'neutral': 1, 'negative': 0}\n",
    "    \n",
    "    # Convert labels to numeric values\n",
    "    y_true = np.array([label_mapping.get(label, 1) for label in y_true])\n",
    "    y_pred = np.array([label_mapping.get(label, 1) for label in y_pred])\n",
    "    \n",
    "    # Calculate overall accuracy\n",
    "    accuracy = accuracy_score(y_true, y_pred)\n",
    "    print(f'Overall Accuracy: {accuracy:.3f}')\n",
    "    \n",
    "    # Compute accuracy for each sentiment label\n",
    "    unique_labels = np.unique(y_true)  # Get unique labels in y_true\n",
    "    \n",
    "    for label in unique_labels:\n",
    "        label_mask = y_true == label  # Mask to filter specific class\n",
    "        label_accuracy = accuracy_score(y_true[label_mask], y_pred[label_mask])\n",
    "        print(f'Accuracy for label {label} ({list(label_mapping.keys())[list(label_mapping.values()).index(label)]}): {label_accuracy:.3f}')\n",
    "    \n",
    "    # Generate classification report\n",
    "    class_report = classification_report(y_true, y_pred, target_names=label_mapping.keys())\n",
    "    print('\\nClassification Report:\\n', class_report)\n",
    "    \n",
    "    # Compute and display confusion matrix\n",
    "    conf_matrix = confusion_matrix(y_true, y_pred, labels=[0, 1, 2])\n",
    "    print('\\nConfusion Matrix:\\n', conf_matrix)"
   ]
  },
  {
   "cell_type": "markdown",
   "id": "975dd5d4",
   "metadata": {
    "papermill": {
     "duration": 0.023816,
     "end_time": "2025-03-24T22:11:28.033690",
     "exception": false,
     "start_time": "2025-03-24T22:11:28.009874",
     "status": "completed"
    },
    "tags": []
   },
   "source": [
    "The following function predicts the sentiment of news headlines. It takes three arguments:\n",
    "\n",
    "- **X_test**: A Pandas DataFrame containing the news headlines to be analyzed.\n",
    "- **model**: The pre-trained **Gemma-3 4B** language model.\n",
    "- **tokenizer**: The corresponding tokenizer for the **Gemma-3 4B** model.\n",
    "\n",
    "### **Function Workflow:**\n",
    "1. **Iterate through each news headline** in `X_test`:\n",
    "   - Construct a prompt asking the model to analyze the sentiment.\n",
    "   - Tokenize the input and move it to the appropriate device (GPU/CPU).\n",
    "   - Generate text using the model and extract the predicted sentiment label.\n",
    "   - Append the sentiment label to `y_pred`.\n",
    "\n",
    "2. **Use the `generate()` function** from the Hugging Face Transformers library:\n",
    "   - `max_new_tokens=5`: Limits the number of generated tokens.\n",
    "   - `temperature=0.0`: Ensures deterministic output.\n",
    "\n",
    "3. **Extract the sentiment label** from the generated text:\n",
    "   - If the text contains \"positive\", assign the label **positive**.\n",
    "   - If the text contains \"negative\", assign the label **negative**.\n",
    "   - If the text contains \"neutral\", assign the label **neutral**.\n",
    "   - If none of these are found, assign **none** as a fallback."
   ]
  },
  {
   "cell_type": "code",
   "execution_count": 14,
   "id": "63374820",
   "metadata": {
    "execution": {
     "iopub.execute_input": "2025-03-24T22:11:28.083532Z",
     "iopub.status.busy": "2025-03-24T22:11:28.083248Z",
     "iopub.status.idle": "2025-03-24T22:11:28.088712Z",
     "shell.execute_reply": "2025-03-24T22:11:28.088030Z"
    },
    "papermill": {
     "duration": 0.031566,
     "end_time": "2025-03-24T22:11:28.089832",
     "exception": false,
     "start_time": "2025-03-24T22:11:28.058266",
     "status": "completed"
    },
    "tags": []
   },
   "outputs": [],
   "source": [
    "def predict(X_test, model, tokenizer, device=device, max_new_tokens=5, temperature=0.0):\n",
    "    \"\"\"Predict the sentiment of news headlines\"\"\"\n",
    "    \n",
    "    y_pred = []  # List to store predicted sentiment labels\n",
    "    \n",
    "    # Iterate through each headline in X_test\n",
    "    for i in tqdm(range(len(X_test)), desc=\"Predicting Sentiments\"):\n",
    "        prompt = X_test.iloc[i][\"text\"]  # Extract headline text\n",
    "        \n",
    "        # Tokenize and move input to the appropriate device\n",
    "        input_ids = tokenizer(prompt, return_tensors=\"pt\").to(device)\n",
    "        \n",
    "        # Generate output from the model\n",
    "        outputs = model.generate(**input_ids, \n",
    "                                 max_new_tokens=max_new_tokens, \n",
    "                                 temperature=temperature)\n",
    "        \n",
    "        # Decode the generated output into text\n",
    "        result = tokenizer.decode(outputs[0], skip_special_tokens=True).strip().lower()\n",
    "        result = result.split(\"=\")[-1]\n",
    "        \n",
    "        # Extract sentiment from the generated text\n",
    "        if \"positive\" in result:\n",
    "            y_pred.append(\"positive\")\n",
    "        elif \"negative\" in result:\n",
    "            y_pred.append(\"negative\")\n",
    "        elif \"neutral\" in result:\n",
    "            y_pred.append(\"neutral\")\n",
    "        else:\n",
    "            y_pred.append(\"none\")  # Fallback to error if no clear sentiment is detected\n",
    "\n",
    "    return y_pred"
   ]
  },
  {
   "cell_type": "markdown",
   "id": "10fcf487",
   "metadata": {
    "papermill": {
     "duration": 0.025193,
     "end_time": "2025-03-24T22:11:28.139077",
     "exception": false,
     "start_time": "2025-03-24T22:11:28.113884",
     "status": "completed"
    },
    "tags": []
   },
   "source": [
    "At this stage, we are ready to test the **Gemma-3 1B** model on our dataset **without any fine-tuning**. This initial evaluation provides insights into the model's **inherent performance** and helps establish a **baseline** for comparison with future fine-tuned models.\n",
    "\n",
    "We use the `predict` function to generate sentiment predictions for the test set:"
   ]
  },
  {
   "cell_type": "code",
   "execution_count": 15,
   "id": "4c7ddbf8",
   "metadata": {
    "execution": {
     "iopub.execute_input": "2025-03-24T22:11:28.188723Z",
     "iopub.status.busy": "2025-03-24T22:11:28.188399Z",
     "iopub.status.idle": "2025-03-24T22:15:52.742383Z",
     "shell.execute_reply": "2025-03-24T22:15:52.741362Z"
    },
    "papermill": {
     "duration": 264.580641,
     "end_time": "2025-03-24T22:15:52.743877",
     "exception": false,
     "start_time": "2025-03-24T22:11:28.163236",
     "status": "completed"
    },
    "tags": []
   },
   "outputs": [
    {
     "name": "stderr",
     "output_type": "stream",
     "text": [
      "Predicting Sentiments: 100%|██████████| 900/900 [04:24<00:00,  3.40it/s]\n"
     ]
    }
   ],
   "source": [
    "y_pred = predict(X_test, model, tokenizer)"
   ]
  },
  {
   "cell_type": "markdown",
   "id": "00e17538",
   "metadata": {
    "papermill": {
     "duration": 0.066131,
     "end_time": "2025-03-24T22:15:52.875556",
     "exception": false,
     "start_time": "2025-03-24T22:15:52.809425",
     "status": "completed"
    },
    "tags": []
   },
   "source": [
    "In the next step, we evaluate the model's predictions against the true sentiment labels:"
   ]
  },
  {
   "cell_type": "code",
   "execution_count": 16,
   "id": "fe76d3be",
   "metadata": {
    "execution": {
     "iopub.execute_input": "2025-03-24T22:15:53.007200Z",
     "iopub.status.busy": "2025-03-24T22:15:53.006850Z",
     "iopub.status.idle": "2025-03-24T22:15:53.024407Z",
     "shell.execute_reply": "2025-03-24T22:15:53.023213Z"
    },
    "papermill": {
     "duration": 0.083961,
     "end_time": "2025-03-24T22:15:53.025707",
     "exception": false,
     "start_time": "2025-03-24T22:15:52.941746",
     "status": "completed"
    },
    "tags": []
   },
   "outputs": [
    {
     "name": "stdout",
     "output_type": "stream",
     "text": [
      "Overall Accuracy: 0.550\n",
      "Accuracy for label 0 (negative): 0.603\n",
      "Accuracy for label 1 (neutral): 0.143\n",
      "Accuracy for label 2 (positive): 0.903\n",
      "\n",
      "Classification Report:\n",
      "               precision    recall  f1-score   support\n",
      "\n",
      "    positive       0.88      0.60      0.72       300\n",
      "     neutral       0.53      0.14      0.23       300\n",
      "    negative       0.44      0.90      0.59       300\n",
      "\n",
      "    accuracy                           0.55       900\n",
      "   macro avg       0.62      0.55      0.51       900\n",
      "weighted avg       0.62      0.55      0.51       900\n",
      "\n",
      "\n",
      "Confusion Matrix:\n",
      " [[181  20  99]\n",
      " [ 14  43 243]\n",
      " [ 11  18 271]]\n"
     ]
    }
   ],
   "source": [
    "evaluate(y_true, y_pred)"
   ]
  },
  {
   "cell_type": "markdown",
   "id": "180bd9ff",
   "metadata": {
    "papermill": {
     "duration": 0.063948,
     "end_time": "2025-03-24T22:15:53.154734",
     "exception": false,
     "start_time": "2025-03-24T22:15:53.090786",
     "status": "completed"
    },
    "tags": []
   },
   "source": [
    "**Analysis of the Model's Performance**\n",
    "\n",
    "**Overall Performance**\n",
    "- The **overall accuracy** of **55.0%** suggests that the model struggles to differentiate between sentiment classes effectively.  \n",
    "- The **macro and weighted F1-scores (~0.51)** indicate an **imbalanced performance** across different sentiment categories.\n",
    "\n",
    "**Per-Label Accuracy**\n",
    "- **Negative Sentiment (60.3%)**  \n",
    "  - The model is relatively good at identifying negative sentiment, as reflected in its **high recall (0.90)**.  \n",
    "  - However, its **low precision (0.44)** means it misclassifies many non-negative examples as negative.  \n",
    "\n",
    "- **Neutral Sentiment (14.3%)**  \n",
    "  - This is the weakest area, with the model **failing to recognize neutral sentiment correctly**.  \n",
    "  - The **recall of 0.14** means that most neutral headlines are misclassified as either positive or negative.  \n",
    "\n",
    "- **Positive Sentiment (90.3%)**  \n",
    "  - The model performs well in identifying positive sentiment, with high **precision (0.88)** and **recall (0.60)**.  \n",
    "  - However, the recall value suggests that it **misses some positive examples**.  \n",
    "\n",
    "**Key Issues from the Confusion Matrix**\n",
    "- **Neutral sentiment is highly misclassified**:  \n",
    "  - **243 out of 300 neutral examples were incorrectly classified as positive**, leading to poor recall for this class.  \n",
    "- **Negative and positive classifications are more reliable**, but still imperfect:  \n",
    "  - **99 negative examples were classified as positive** (false positives).  \n",
    "  - **Only 14 positive examples were misclassified as negative**, showing that the model rarely confuses these extremes.  \n",
    "\n",
    "**In summary**\n",
    "- The model is **biased towards predicting positive sentiment** and **struggles significantly with neutral sentiment**.  \n",
    "- The **high recall for negative sentiment** suggests that it detects negativity well but often **overgeneralizes**, leading to misclassifications.  \n",
    "- While the model has **some strengths in identifying negative and positive sentiment**, it **performs poorly on neutral sentiment**, making it **unreliable for nuanced sentiment analysis** without further refinement. 🚀  \n"
   ]
  },
  {
   "cell_type": "markdown",
   "id": "69a0ac64",
   "metadata": {
    "papermill": {
     "duration": 0.066227,
     "end_time": "2025-03-24T22:15:53.286236",
     "exception": false,
     "start_time": "2025-03-24T22:15:53.220009",
     "status": "completed"
    },
    "tags": []
   },
   "source": [
    "In the next cell, we set everything up for fine-tuning the model. We configure and initialize a **Simple Fine-tuning Trainer (SFTTrainer)** for training the model using the **Parameter-Efficient Fine-Tuning (PEFT)** method. PEFT is efficient because it operates on a reduced number of parameters compared to the model's overall size. This method focuses on refining only a limited set of additional model parameters while keeping the majority of the pre-trained large language model (LLM) parameters fixed, significantly reducing computational and storage expenses. Additionally, PEFT helps mitigate **catastrophic forgetting**, a common issue when fine-tuning LLMs completely.\n",
    "\n",
    "### PEFTConfig:\n",
    "The `peft_config` object specifies the parameters for PEFT. The following are some of the most important parameters:\n",
    "\n",
    "- **lora_alpha**: The learning rate for the LoRA update matrices.\n",
    "- **lora_dropout**: The dropout probability for the LoRA update matrices.\n",
    "- **r**: The rank of the LoRA update matrices.\n",
    "- **bias**: The type of bias to use. Possible values are: `none`, `additive`, and `learned`.\n",
    "- **task_type**: The task type the model is being trained for. Possible values are `CAUSAL_LM` and `MASKED_LM`.\n",
    "\n",
    "### TrainingArguments:\n",
    "The `training_arguments` object specifies the parameters for training the model. The following are some key parameters:\n",
    "\n",
    "- **output_dir**: Directory where the training logs and checkpoints will be saved.\n",
    "- **num_train_epochs**: Number of epochs to train the model for.\n",
    "- **per_device_train_batch_size**: Number of samples in each batch on each device.\n",
    "- **gradient_accumulation_steps**: Number of batches to accumulate gradients before updating the model parameters.\n",
    "- **gradient_checkpointing**: Whether to use gradient checkpointing to reduce GPU memory usage.\n",
    "- **optim**: The optimizer used for training the model.\n",
    "- **save_steps**: The number of steps after which to save a checkpoint.\n",
    "- **logging_steps**: The number of steps after which to log the training metrics.\n",
    "- **learning_rate**: The learning rate for the optimizer.\n",
    "- **weight_decay**: The weight decay parameter for the optimizer.\n",
    "- **fp16**: Whether to use 16-bit floating-point precision.\n",
    "- **bf16**: Whether to use BFloat16 precision.\n",
    "- **max_grad_norm**: The maximum gradient norm.\n",
    "- **max_steps**: The maximum number of steps to train the model for.\n",
    "- **warmup_ratio**: Proportion of training steps to use for warming up the learning rate.\n",
    "- **group_by_length**: Whether to group the training samples by length.\n",
    "- **lr_scheduler_type**: The type of learning rate scheduler to use.\n",
    "- **report_to**: The tools to report the training metrics to.\n",
    "- **evaluation_strategy**: The strategy for evaluating the model during training.\n",
    "- **eval_steps**: Number of update steps between evaluations.\n",
    "- **eval_accumulation_steps**: Number of prediction steps to accumulate before moving the output to CPU.\n",
    "\n",
    "### SFTTrainer:\n",
    "The `SFTTrainer` is a custom trainer class from the **TRL** library. It is used to fine-tune large language models using the PEFT method.\n",
    "\n",
    "The `SFTTrainer` object is initialized with the following arguments:\n",
    "\n",
    "- **model**: The model to be trained.\n",
    "- **train_dataset**: The training dataset.\n",
    "- **eval_dataset**: The evaluation dataset.\n",
    "- **peft_config**: The PEFT configuration.\n",
    "- **tokenizer**: The tokenizer to use.\n",
    "- **args**: The training arguments.\n",
    "- **dataset_text_field**: The name of the text field in the dataset.\n",
    "- **packing**: Whether to pack the training samples.\n",
    "- **max_seq_length**: The maximum sequence length.\n",
    "\n",
    "Once the `SFTTrainer` object is initialized, it can be used to train the model by calling the `train()` method."
   ]
  },
  {
   "cell_type": "code",
   "execution_count": 17,
   "id": "3c3a771a",
   "metadata": {
    "execution": {
     "iopub.execute_input": "2025-03-24T22:15:53.417546Z",
     "iopub.status.busy": "2025-03-24T22:15:53.417187Z",
     "iopub.status.idle": "2025-03-24T22:15:56.544945Z",
     "shell.execute_reply": "2025-03-24T22:15:56.544178Z"
    },
    "papermill": {
     "duration": 3.194522,
     "end_time": "2025-03-24T22:15:56.546314",
     "exception": false,
     "start_time": "2025-03-24T22:15:53.351792",
     "status": "completed"
    },
    "tags": []
   },
   "outputs": [
    {
     "data": {
      "application/vnd.jupyter.widget-view+json": {
       "model_id": "2d36cf1f404c479caa34402d7ed2f8c9",
       "version_major": 2,
       "version_minor": 0
      },
      "text/plain": [
       "Converting train dataset to ChatML:   0%|          | 0/900 [00:00<?, ? examples/s]"
      ]
     },
     "metadata": {},
     "output_type": "display_data"
    },
    {
     "data": {
      "application/vnd.jupyter.widget-view+json": {
       "model_id": "0b02a000d7ed445c8e7388e0c731d86b",
       "version_major": 2,
       "version_minor": 0
      },
      "text/plain": [
       "Applying chat template to train dataset:   0%|          | 0/900 [00:00<?, ? examples/s]"
      ]
     },
     "metadata": {},
     "output_type": "display_data"
    },
    {
     "data": {
      "application/vnd.jupyter.widget-view+json": {
       "model_id": "2e53f957cc0f47349fe743ff7d1809e6",
       "version_major": 2,
       "version_minor": 0
      },
      "text/plain": [
       "Tokenizing train dataset:   0%|          | 0/900 [00:00<?, ? examples/s]"
      ]
     },
     "metadata": {},
     "output_type": "display_data"
    },
    {
     "data": {
      "application/vnd.jupyter.widget-view+json": {
       "model_id": "b1ad17f2209f4fbb9ef5930b6bf7018d",
       "version_major": 2,
       "version_minor": 0
      },
      "text/plain": [
       "Truncating train dataset:   0%|          | 0/900 [00:00<?, ? examples/s]"
      ]
     },
     "metadata": {},
     "output_type": "display_data"
    },
    {
     "data": {
      "application/vnd.jupyter.widget-view+json": {
       "model_id": "5d4fee6135f94900a11e9fb7910f95f3",
       "version_major": 2,
       "version_minor": 0
      },
      "text/plain": [
       "Converting eval dataset to ChatML:   0%|          | 0/150 [00:00<?, ? examples/s]"
      ]
     },
     "metadata": {},
     "output_type": "display_data"
    },
    {
     "data": {
      "application/vnd.jupyter.widget-view+json": {
       "model_id": "4467f3382e2846edb38eac4a949ebd00",
       "version_major": 2,
       "version_minor": 0
      },
      "text/plain": [
       "Applying chat template to eval dataset:   0%|          | 0/150 [00:00<?, ? examples/s]"
      ]
     },
     "metadata": {},
     "output_type": "display_data"
    },
    {
     "data": {
      "application/vnd.jupyter.widget-view+json": {
       "model_id": "f2b53d4f68db4e0da90b73053f03f2ac",
       "version_major": 2,
       "version_minor": 0
      },
      "text/plain": [
       "Tokenizing eval dataset:   0%|          | 0/150 [00:00<?, ? examples/s]"
      ]
     },
     "metadata": {},
     "output_type": "display_data"
    },
    {
     "data": {
      "application/vnd.jupyter.widget-view+json": {
       "model_id": "f97869f02184467393577628b239a2b2",
       "version_major": 2,
       "version_minor": 0
      },
      "text/plain": [
       "Truncating eval dataset:   0%|          | 0/150 [00:00<?, ? examples/s]"
      ]
     },
     "metadata": {},
     "output_type": "display_data"
    },
    {
     "name": "stderr",
     "output_type": "stream",
     "text": [
      "No label_names provided for model class `PeftModelForCausalLM`. Since `PeftModel` hides base models input arguments, if label_names is not given, label_names can't be set automatically within `Trainer`. Note that empty label_names list will be used instead.\n"
     ]
    }
   ],
   "source": [
    "peft_config = LoraConfig(\n",
    "    lora_alpha=32,\n",
    "    lora_dropout=0.05,\n",
    "    r=64,\n",
    "    bias=\"none\",\n",
    "    task_type=\"CAUSAL_LM\",\n",
    "    target_modules=\"all-linear\",\n",
    ")\n",
    "\n",
    "training_arguments = SFTConfig(\n",
    "    output_dir=\"logs\",\n",
    "    num_train_epochs=4,\n",
    "    gradient_checkpointing=True,\n",
    "    gradient_checkpointing_kwargs={\"use_reentrant\": False},  # Use reentrant checkpointing\n",
    "    per_device_train_batch_size=1,\n",
    "    gradient_accumulation_steps=8,\n",
    "    optim=\"adamw_torch_fused\",  # Use fused AdamW optimizer\n",
    "    save_steps=112,\n",
    "    load_best_model_at_end=True,\n",
    "    logging_steps=25,\n",
    "    learning_rate=2e-4,\n",
    "    weight_decay=0.001,\n",
    "    fp16=True if compute_dtype == torch.float16 else False,  # Use float16 precision\n",
    "    bf16=True if compute_dtype == torch.bfloat16 else False,  # Use bfloat16 precision\n",
    "    max_grad_norm=0.3,\n",
    "    max_steps=-1,\n",
    "    warmup_ratio=0.03,\n",
    "    group_by_length=False,\n",
    "    evaluation_strategy=\"steps\",\n",
    "    eval_steps=112,\n",
    "    eval_accumulation_steps=1,\n",
    "    lr_scheduler_type=\"constant\",\n",
    "    report_to=\"tensorboard\",\n",
    "    max_seq_length=max_seq_length,\n",
    "    packing=False,\n",
    "    dataset_kwargs={\n",
    "        \"add_special_tokens\": False,  # Template with special tokens\n",
    "        \"append_concat_token\": True,  # Add EOS token as separator token\n",
    "    }\n",
    ")\n",
    "\n",
    "model.config.use_cache = False\n",
    "model.config.pretraining_tp = 1\n",
    "\n",
    "trainer = SFTTrainer(\n",
    "    model=model,\n",
    "    train_dataset=train_data,\n",
    "    eval_dataset=eval_data,\n",
    "    peft_config=peft_config,\n",
    "    processing_class=tokenizer,\n",
    "    args=training_arguments,\n",
    ")"
   ]
  },
  {
   "cell_type": "markdown",
   "id": "893246bd",
   "metadata": {
    "papermill": {
     "duration": 0.066935,
     "end_time": "2025-03-24T22:15:56.679446",
     "exception": false,
     "start_time": "2025-03-24T22:15:56.612511",
     "status": "completed"
    },
    "tags": []
   },
   "source": [
    "The `trainer.train()` function is called to start the training process. This triggers the fine-tuning of the model based on the specified training arguments, datasets, and PEFT configuration. During this process, the model will iteratively adjust its parameters, leveraging the training data to improve performance on the sentiment analysis task. The training will proceed according to the parameters set in the `training_arguments`, such as the number of epochs, batch size, and evaluation steps.\n",
    "\n",
    "This method will also handle the evaluation of the model at specified intervals, providing insights into the model's performance as it trains."
   ]
  },
  {
   "cell_type": "code",
   "execution_count": 18,
   "id": "91b0c2a2",
   "metadata": {
    "execution": {
     "iopub.execute_input": "2025-03-24T22:15:56.811413Z",
     "iopub.status.busy": "2025-03-24T22:15:56.811080Z",
     "iopub.status.idle": "2025-03-24T22:46:44.439377Z",
     "shell.execute_reply": "2025-03-24T22:46:44.438609Z"
    },
    "papermill": {
     "duration": 1847.696248,
     "end_time": "2025-03-24T22:46:44.440705",
     "exception": false,
     "start_time": "2025-03-24T22:15:56.744457",
     "status": "completed"
    },
    "tags": []
   },
   "outputs": [
    {
     "data": {
      "text/html": [
       "\n",
       "    <div>\n",
       "      \n",
       "      <progress value='448' max='448' style='width:300px; height:20px; vertical-align: middle;'></progress>\n",
       "      [448/448 30:42, Epoch 3/4]\n",
       "    </div>\n",
       "    <table border=\"1\" class=\"dataframe\">\n",
       "  <thead>\n",
       " <tr style=\"text-align: left;\">\n",
       "      <th>Step</th>\n",
       "      <th>Training Loss</th>\n",
       "      <th>Validation Loss</th>\n",
       "    </tr>\n",
       "  </thead>\n",
       "  <tbody>\n",
       "    <tr>\n",
       "      <td>112</td>\n",
       "      <td>1.155600</td>\n",
       "      <td>1.248115</td>\n",
       "    </tr>\n",
       "    <tr>\n",
       "      <td>224</td>\n",
       "      <td>0.897200</td>\n",
       "      <td>1.208389</td>\n",
       "    </tr>\n",
       "    <tr>\n",
       "      <td>336</td>\n",
       "      <td>0.677600</td>\n",
       "      <td>1.255559</td>\n",
       "    </tr>\n",
       "    <tr>\n",
       "      <td>448</td>\n",
       "      <td>0.455800</td>\n",
       "      <td>1.451596</td>\n",
       "    </tr>\n",
       "  </tbody>\n",
       "</table><p>"
      ],
      "text/plain": [
       "<IPython.core.display.HTML object>"
      ]
     },
     "metadata": {},
     "output_type": "display_data"
    },
    {
     "data": {
      "text/plain": [
       "TrainOutput(global_step=448, training_loss=0.8318860807589122, metrics={'train_runtime': 1847.1768, 'train_samples_per_second': 1.949, 'train_steps_per_second': 0.243, 'total_flos': 1363805828158464.0, 'train_loss': 0.8318860807589122})"
      ]
     },
     "execution_count": 18,
     "metadata": {},
     "output_type": "execute_result"
    }
   ],
   "source": [
    "# Train model\n",
    "trainer.train()"
   ]
  },
  {
   "cell_type": "markdown",
   "id": "37020888",
   "metadata": {
    "papermill": {
     "duration": 0.065946,
     "end_time": "2025-03-24T22:46:44.573745",
     "exception": false,
     "start_time": "2025-03-24T22:46:44.507799",
     "status": "completed"
    },
    "tags": []
   },
   "source": [
    "The code below saves the fine-tuned LoRA adapter and tokenizer to a specified directory for later use.\n",
    "\n",
    "1. **Save the LoRA adapter**:  \n",
    "   The `trainer.model.save_pretrained(lora_directory)` function saves the trained model (with the LoRA adapter applied) to the directory specified by `lora_directory` (\"LoRA-Gemma3-model\"). This allows you to reload and use the fine-tuned model later without needing to retrain it.\n",
    "\n",
    "2. **Save the tokenizer**:  \n",
    "   The `trainer.tokenizer.save_pretrained(lora_directory)` function saves the tokenizer used during training to the same directory. This ensures that the tokenizer is consistent with the fine-tuned model, enabling you to process text in the same way during inference or further training."
   ]
  },
  {
   "cell_type": "code",
   "execution_count": 19,
   "id": "55dcbbb2",
   "metadata": {
    "execution": {
     "iopub.execute_input": "2025-03-24T22:46:44.705869Z",
     "iopub.status.busy": "2025-03-24T22:46:44.705579Z",
     "iopub.status.idle": "2025-03-24T22:46:45.514157Z",
     "shell.execute_reply": "2025-03-24T22:46:45.513360Z"
    },
    "papermill": {
     "duration": 0.876252,
     "end_time": "2025-03-24T22:46:45.515583",
     "exception": false,
     "start_time": "2025-03-24T22:46:44.639331",
     "status": "completed"
    },
    "tags": []
   },
   "outputs": [
    {
     "data": {
      "text/plain": [
       "('LoRA-Gemma3-model/tokenizer_config.json',\n",
       " 'LoRA-Gemma3-model/special_tokens_map.json',\n",
       " 'LoRA-Gemma3-model/tokenizer.model',\n",
       " 'LoRA-Gemma3-model/added_tokens.json',\n",
       " 'LoRA-Gemma3-model/tokenizer.json')"
      ]
     },
     "execution_count": 19,
     "metadata": {},
     "output_type": "execute_result"
    }
   ],
   "source": [
    "# Save trained LoRA adapter\n",
    "lora_directory = \"LoRA-Gemma3-model\"\n",
    "trainer.model.save_pretrained(lora_directory)\n",
    "\n",
    "# To save the tokenizer too\n",
    "trainer.processing_class.save_pretrained(lora_directory)"
   ]
  },
  {
   "cell_type": "markdown",
   "id": "fea02797",
   "metadata": {
    "papermill": {
     "duration": 0.065329,
     "end_time": "2025-03-24T22:46:45.651974",
     "exception": false,
     "start_time": "2025-03-24T22:46:45.586645",
     "status": "completed"
    },
    "tags": []
   },
   "source": [
    "After training the model, it's essential to track its progress, performance, and visualize metrics. This can be done using TensorBoard. The following code loads the TensorBoard extension and starts the TensorBoard server, which will monitor the training process.\n",
    "\n",
    "1. **Load TensorBoard extension**:  \n",
    "   The `%load_ext tensorboard` magic command is used to load the TensorBoard extension within the Jupyter notebook environment.\n",
    "\n",
    "2. **Start TensorBoard**:  \n",
    "   The `%tensorboard --logdir logs/runs` command starts the TensorBoard server, specifying the directory (`logs/runs`) where the training logs and checkpoints are saved. By doing this, you can visualize various metrics such as loss, accuracy, and other key performance indicators during the training process.\n",
    "\n",
    "Once executed, TensorBoard will provide an interactive interface to monitor how the model fits and evolves over time."
   ]
  },
  {
   "cell_type": "code",
   "execution_count": 20,
   "id": "fd311e3e",
   "metadata": {
    "execution": {
     "iopub.execute_input": "2025-03-24T22:46:45.783164Z",
     "iopub.status.busy": "2025-03-24T22:46:45.782879Z",
     "iopub.status.idle": "2025-03-24T22:46:51.842686Z",
     "shell.execute_reply": "2025-03-24T22:46:51.841849Z"
    },
    "papermill": {
     "duration": 6.12668,
     "end_time": "2025-03-24T22:46:51.844140",
     "exception": false,
     "start_time": "2025-03-24T22:46:45.717460",
     "status": "completed"
    },
    "tags": []
   },
   "outputs": [
    {
     "data": {
      "application/javascript": [
       "\n",
       "        (async () => {\n",
       "            const url = new URL(await google.colab.kernel.proxyPort(6006, {'cache': true}));\n",
       "            url.searchParams.set('tensorboardColab', 'true');\n",
       "            const iframe = document.createElement('iframe');\n",
       "            iframe.src = url;\n",
       "            iframe.setAttribute('width', '100%');\n",
       "            iframe.setAttribute('height', '800');\n",
       "            iframe.setAttribute('frameborder', 0);\n",
       "            document.body.appendChild(iframe);\n",
       "        })();\n",
       "    "
      ],
      "text/plain": [
       "<IPython.core.display.Javascript object>"
      ]
     },
     "metadata": {},
     "output_type": "display_data"
    }
   ],
   "source": [
    "%load_ext tensorboard\n",
    "%tensorboard --logdir logs/runs"
   ]
  },
  {
   "cell_type": "markdown",
   "id": "c8e91faf",
   "metadata": {
    "papermill": {
     "duration": 0.065205,
     "end_time": "2025-03-24T22:46:51.977077",
     "exception": false,
     "start_time": "2025-03-24T22:46:51.911872",
     "status": "completed"
    },
    "tags": []
   },
   "source": [
    "The following code performs sentiment label prediction on the test set and evaluates the model's performance:\n",
    "\n",
    "1. **Predict Sentiment Labels**:  \n",
    "   The `predict(X_test, model, tokenizer)` function is called to predict the sentiment labels for the test dataset (`X_test`). This function generates predictions based on the fine-tuned model.\n",
    "\n",
    "2. **Evaluate Model Performance**:  \n",
    "   The `evaluate(y_true, y_pred)` function is used to assess the model's performance by comparing the true sentiment labels (`y_true`) with the predicted labels (`y_pred`). The evaluation will compute metrics like accuracy, precision, recall, and F1-score, which provide insights into how well the model is performing for each sentiment class.\n",
    "\n",
    "With a well-fine-tuned model, we expect to achieve an overall accuracy of over 0.8, and the performance for individual sentiment labels (positive, negative, and neutral) should be high, especially for positive and negative classes. While there might still be room for improvement in predicting neutral sentiment, the results should be impressive given the relatively small dataset and the use of fine-tuning."
   ]
  },
  {
   "cell_type": "code",
   "execution_count": 21,
   "id": "634d6bf4",
   "metadata": {
    "execution": {
     "iopub.execute_input": "2025-03-24T22:46:52.112012Z",
     "iopub.status.busy": "2025-03-24T22:46:52.111702Z",
     "iopub.status.idle": "2025-03-24T22:49:37.473384Z",
     "shell.execute_reply": "2025-03-24T22:49:37.472470Z"
    },
    "papermill": {
     "duration": 165.431606,
     "end_time": "2025-03-24T22:49:37.474759",
     "exception": false,
     "start_time": "2025-03-24T22:46:52.043153",
     "status": "completed"
    },
    "tags": []
   },
   "outputs": [
    {
     "name": "stderr",
     "output_type": "stream",
     "text": [
      "Predicting Sentiments: 100%|██████████| 900/900 [02:45<00:00,  5.44it/s]"
     ]
    },
    {
     "name": "stdout",
     "output_type": "stream",
     "text": [
      "Overall Accuracy: 0.853\n",
      "Accuracy for label 0 (negative): 0.977\n",
      "Accuracy for label 1 (neutral): 0.753\n",
      "Accuracy for label 2 (positive): 0.830\n",
      "\n",
      "Classification Report:\n",
      "               precision    recall  f1-score   support\n",
      "\n",
      "    positive       0.91      0.98      0.94       300\n",
      "     neutral       0.82      0.75      0.78       300\n",
      "    negative       0.83      0.83      0.83       300\n",
      "\n",
      "    accuracy                           0.85       900\n",
      "   macro avg       0.85      0.85      0.85       900\n",
      "weighted avg       0.85      0.85      0.85       900\n",
      "\n",
      "\n",
      "Confusion Matrix:\n",
      " [[293   5   2]\n",
      " [ 24 226  50]\n",
      " [  5  46 249]]\n"
     ]
    },
    {
     "name": "stderr",
     "output_type": "stream",
     "text": [
      "\n"
     ]
    }
   ],
   "source": [
    "model.eval()\n",
    "y_pred = predict(X_test, model, tokenizer)\n",
    "evaluate(y_true, y_pred)"
   ]
  },
  {
   "cell_type": "markdown",
   "id": "72bb4398",
   "metadata": {
    "papermill": {
     "duration": 0.104897,
     "end_time": "2025-03-24T22:49:37.685805",
     "exception": false,
     "start_time": "2025-03-24T22:49:37.580908",
     "status": "completed"
    },
    "tags": []
   },
   "source": [
    "The model performs particularly well with the **negative class** (high recall), showing strong performance in identifying negative sentiment. The **positive class** also shows good results, with a high recall and F1-score, but the **neutral class** still lags behind, with more modest recall and F1-score.\n",
    "\n",
    "The **confusion matrix** indicates that the model frequently predicts positive and negative sentiment correctly, with only a few neutral instances misclassified as positive or negative.\n",
    "\n",
    "Compared to the results previously obtained by fine-tuning **Gemma 7B-IT** (see: [Fine-tune Gemma 7B-IT for sentiment analysis](https://www.kaggle.com/code/lucamassaron/fine-tune-gemma-7b-it-for-sentiment-analysis)), we have to admit that, despite being a smaller model, the **Gemma 3 1B-IT** shows impressive potential for sentiment analysis. While the **Gemma 7B-IT quantized 4-bit** model certainly excels in overall accuracy and demonstrates better performance for the **neutral sentiment** class, it’s important to remember that **Gemma 3 1B-IT** is significantly more lightweight — seven times smaller — yet still delivers remarkable results.\n",
    "\n",
    "The **Gemma 3 1B-IT** model excels in classifying **negative sentiment**, achieving high accuracy and recall, and with additional fine-tuning, its performance on **neutral sentiment** could further improve. The **neutral sentiment** class, while not as strong as the 7B model, still shows promising potential and can be enhanced with targeted adjustments.\n",
    "\n",
    "The **Gemma 3 1B-IT** model offers a great trade-off between performance and computational efficiency, making it an attractive option for developers and researchers with limited resources or those needing faster deployment. While **Gemma 7B-IT** may offer a more balanced performance overall, **Gemma 3 1B-IT** is a powerful and efficient alternative, showing strong potential with fine-tuning, especially in terms of **negative sentiment classification**."
   ]
  },
  {
   "cell_type": "markdown",
   "id": "b20b8540",
   "metadata": {
    "papermill": {
     "duration": 0.108005,
     "end_time": "2025-03-24T22:49:37.900528",
     "exception": false,
     "start_time": "2025-03-24T22:49:37.792523",
     "status": "completed"
    },
    "tags": []
   },
   "source": [
    "The following code performs several tasks to analyze and save the results of the fine-tuned model:\n",
    "\n",
    "1. **Create Evaluation DataFrame**:  \n",
    "   A Pandas DataFrame named `evaluation` is created. This DataFrame contains the following columns:\n",
    "   - `text`: The text of the test set.\n",
    "   - `y_true`: The true sentiment labels from the test set.\n",
    "   - `y_pred`: The predicted sentiment labels from the fine-tuned model.\n",
    "\n",
    "   This DataFrame provides a structured way to examine the model's predictions and compare them with the true labels, allowing for easier error analysis and insights into the model's performance. It will also be useful for identifying which examples the model got wrong and refining the prompt or model further.\n",
    "\n",
    "   The DataFrame is then saved as a CSV file (`test_predictions.csv`) for further analysis.\n",
    "\n",
    "2. **Load Base Model**:  \n",
    "   The base model is loaded from the specified path (`GEMMA_PATH`). The model is loaded with `low_cpu_mem_usage=True` to reduce memory consumption during the loading process.\n",
    "\n",
    "3. **Merge LoRA and Base Model**:  \n",
    "   The LoRA fine-tuning (which is stored in the directory `lora_directory`) is merged with the base model using `PeftModel.from_pretrained()`. This allows the fine-tuned parameters to be applied to the base model. After merging, the model is saved as a new merged model (`merged-LoRA-Gemma3-model`), and the `safe_serialization=True` flag ensures the model is safely serialized. The `max_shard_size=\"2GB\"` option is used to split the model into smaller files, making it easier to handle.\n",
    "\n",
    "4. **Save Tokenizer**:  \n",
    "   The tokenizer, which was used for fine-tuning the model, is also saved alongside the merged model to ensure consistency during inference. The tokenizer is saved in the same directory (`merged-LoRA-Gemma3-model`)."
   ]
  },
  {
   "cell_type": "code",
   "execution_count": 22,
   "id": "c5f3857c",
   "metadata": {
    "execution": {
     "iopub.execute_input": "2025-03-24T22:49:38.114261Z",
     "iopub.status.busy": "2025-03-24T22:49:38.113946Z",
     "iopub.status.idle": "2025-03-24T22:49:38.130830Z",
     "shell.execute_reply": "2025-03-24T22:49:38.130174Z"
    },
    "papermill": {
     "duration": 0.124212,
     "end_time": "2025-03-24T22:49:38.132338",
     "exception": false,
     "start_time": "2025-03-24T22:49:38.008126",
     "status": "completed"
    },
    "tags": []
   },
   "outputs": [],
   "source": [
    "evaluation = pd.DataFrame({'text': X_test[\"text\"], \n",
    "                           'y_true':y_true, \n",
    "                           'y_pred': y_pred},\n",
    "                         )\n",
    "evaluation.to_csv(\"test_predictions.csv\", index=False)"
   ]
  },
  {
   "cell_type": "code",
   "execution_count": 23,
   "id": "3e59a571",
   "metadata": {
    "execution": {
     "iopub.execute_input": "2025-03-24T22:49:38.348855Z",
     "iopub.status.busy": "2025-03-24T22:49:38.348523Z",
     "iopub.status.idle": "2025-03-24T22:49:52.492805Z",
     "shell.execute_reply": "2025-03-24T22:49:52.491751Z"
    },
    "papermill": {
     "duration": 14.254361,
     "end_time": "2025-03-24T22:49:52.494307",
     "exception": false,
     "start_time": "2025-03-24T22:49:38.239946",
     "status": "completed"
    },
    "tags": []
   },
   "outputs": [
    {
     "data": {
      "text/plain": [
       "('merged-LoRA-Gemma3-model/tokenizer_config.json',\n",
       " 'merged-LoRA-Gemma3-model/special_tokens_map.json',\n",
       " 'merged-LoRA-Gemma3-model/tokenizer.model',\n",
       " 'merged-LoRA-Gemma3-model/added_tokens.json',\n",
       " 'merged-LoRA-Gemma3-model/tokenizer.json')"
      ]
     },
     "execution_count": 23,
     "metadata": {},
     "output_type": "execute_result"
    }
   ],
   "source": [
    "# Load Model base model\n",
    "model = AutoModelForCausalLM.from_pretrained(GEMMA_PATH, low_cpu_mem_usage=True)\n",
    "\n",
    "# Merge LoRA and base model and save\n",
    "peft_model = PeftModel.from_pretrained(model, lora_directory)\n",
    "merged_model = peft_model.merge_and_unload()\n",
    "merged_model.save_pretrained(\"merged-LoRA-Gemma3-model\", \n",
    "                             safe_serialization=True, \n",
    "                             max_shard_size=\"2GB\")\n",
    "\n",
    "tokenizer = AutoTokenizer.from_pretrained(lora_directory)\n",
    "tokenizer.save_pretrained(\"merged-LoRA-Gemma3-model\")"
   ]
  }
 ],
 "metadata": {
  "kaggle": {
   "accelerator": "gpu",
   "dataSources": [
    {
     "datasetId": 622510,
     "sourceId": 1192499,
     "sourceType": "datasetVersion"
    },
    {
     "isSourceIdPinned": false,
     "modelId": 222398,
     "modelInstanceId": 239467,
     "sourceId": 282742,
     "sourceType": "modelInstanceVersion"
    }
   ],
   "dockerImageVersionId": 30919,
   "isGpuEnabled": true,
   "isInternetEnabled": true,
   "language": "python",
   "sourceType": "notebook"
  },
  "kernelspec": {
   "display_name": "Python 3",
   "language": "python",
   "name": "python3"
  },
  "language_info": {
   "codemirror_mode": {
    "name": "ipython",
    "version": 3
   },
   "file_extension": ".py",
   "mimetype": "text/x-python",
   "name": "python",
   "nbconvert_exporter": "python",
   "pygments_lexer": "ipython3",
   "version": "3.10.12"
  },
  "papermill": {
   "default_parameters": {},
   "duration": 2392.892856,
   "end_time": "2025-03-24T22:49:56.129742",
   "environment_variables": {},
   "exception": null,
   "input_path": "__notebook__.ipynb",
   "output_path": "__notebook__.ipynb",
   "parameters": {},
   "start_time": "2025-03-24T22:10:03.236886",
   "version": "2.4.0"
  },
  "widgets": {
   "application/vnd.jupyter.widget-state+json": {
    "state": {
     "001e08b9ed1a47d7a04b0bcd2026cdb5": {
      "model_module": "@jupyter-widgets/base",
      "model_module_version": "2.0.0",
      "model_name": "LayoutModel",
      "state": {
       "_model_module": "@jupyter-widgets/base",
       "_model_module_version": "2.0.0",
       "_model_name": "LayoutModel",
       "_view_count": null,
       "_view_module": "@jupyter-widgets/base",
       "_view_module_version": "2.0.0",
       "_view_name": "LayoutView",
       "align_content": null,
       "align_items": null,
       "align_self": null,
       "border_bottom": null,
       "border_left": null,
       "border_right": null,
       "border_top": null,
       "bottom": null,
       "display": null,
       "flex": null,
       "flex_flow": null,
       "grid_area": null,
       "grid_auto_columns": null,
       "grid_auto_flow": null,
       "grid_auto_rows": null,
       "grid_column": null,
       "grid_gap": null,
       "grid_row": null,
       "grid_template_areas": null,
       "grid_template_columns": null,
       "grid_template_rows": null,
       "height": null,
       "justify_content": null,
       "justify_items": null,
       "left": null,
       "margin": null,
       "max_height": null,
       "max_width": null,
       "min_height": null,
       "min_width": null,
       "object_fit": null,
       "object_position": null,
       "order": null,
       "overflow": null,
       "padding": null,
       "right": null,
       "top": null,
       "visibility": null,
       "width": null
      }
     },
     "012b7e68324940bbae5c35f1aca9fe49": {
      "model_module": "@jupyter-widgets/base",
      "model_module_version": "2.0.0",
      "model_name": "LayoutModel",
      "state": {
       "_model_module": "@jupyter-widgets/base",
       "_model_module_version": "2.0.0",
       "_model_name": "LayoutModel",
       "_view_count": null,
       "_view_module": "@jupyter-widgets/base",
       "_view_module_version": "2.0.0",
       "_view_name": "LayoutView",
       "align_content": null,
       "align_items": null,
       "align_self": null,
       "border_bottom": null,
       "border_left": null,
       "border_right": null,
       "border_top": null,
       "bottom": null,
       "display": null,
       "flex": null,
       "flex_flow": null,
       "grid_area": null,
       "grid_auto_columns": null,
       "grid_auto_flow": null,
       "grid_auto_rows": null,
       "grid_column": null,
       "grid_gap": null,
       "grid_row": null,
       "grid_template_areas": null,
       "grid_template_columns": null,
       "grid_template_rows": null,
       "height": null,
       "justify_content": null,
       "justify_items": null,
       "left": null,
       "margin": null,
       "max_height": null,
       "max_width": null,
       "min_height": null,
       "min_width": null,
       "object_fit": null,
       "object_position": null,
       "order": null,
       "overflow": null,
       "padding": null,
       "right": null,
       "top": null,
       "visibility": null,
       "width": null
      }
     },
     "09b6db6f106140d895e02be1af3fa32d": {
      "model_module": "@jupyter-widgets/base",
      "model_module_version": "2.0.0",
      "model_name": "LayoutModel",
      "state": {
       "_model_module": "@jupyter-widgets/base",
       "_model_module_version": "2.0.0",
       "_model_name": "LayoutModel",
       "_view_count": null,
       "_view_module": "@jupyter-widgets/base",
       "_view_module_version": "2.0.0",
       "_view_name": "LayoutView",
       "align_content": null,
       "align_items": null,
       "align_self": null,
       "border_bottom": null,
       "border_left": null,
       "border_right": null,
       "border_top": null,
       "bottom": null,
       "display": null,
       "flex": null,
       "flex_flow": null,
       "grid_area": null,
       "grid_auto_columns": null,
       "grid_auto_flow": null,
       "grid_auto_rows": null,
       "grid_column": null,
       "grid_gap": null,
       "grid_row": null,
       "grid_template_areas": null,
       "grid_template_columns": null,
       "grid_template_rows": null,
       "height": null,
       "justify_content": null,
       "justify_items": null,
       "left": null,
       "margin": null,
       "max_height": null,
       "max_width": null,
       "min_height": null,
       "min_width": null,
       "object_fit": null,
       "object_position": null,
       "order": null,
       "overflow": null,
       "padding": null,
       "right": null,
       "top": null,
       "visibility": null,
       "width": null
      }
     },
     "0b02a000d7ed445c8e7388e0c731d86b": {
      "model_module": "@jupyter-widgets/controls",
      "model_module_version": "2.0.0",
      "model_name": "HBoxModel",
      "state": {
       "_dom_classes": [],
       "_model_module": "@jupyter-widgets/controls",
       "_model_module_version": "2.0.0",
       "_model_name": "HBoxModel",
       "_view_count": null,
       "_view_module": "@jupyter-widgets/controls",
       "_view_module_version": "2.0.0",
       "_view_name": "HBoxView",
       "box_style": "",
       "children": [
        "IPY_MODEL_f3fb19fc50534b10a400cf2f8fdf503c",
        "IPY_MODEL_1024920d375d44f9aa7478b7eb12b959",
        "IPY_MODEL_bfa1fcd0ea5e4f329e0324677be68665"
       ],
       "layout": "IPY_MODEL_dde5c6fb17b643338e2141c4743b90c8",
       "tabbable": null,
       "tooltip": null
      }
     },
     "1024920d375d44f9aa7478b7eb12b959": {
      "model_module": "@jupyter-widgets/controls",
      "model_module_version": "2.0.0",
      "model_name": "FloatProgressModel",
      "state": {
       "_dom_classes": [],
       "_model_module": "@jupyter-widgets/controls",
       "_model_module_version": "2.0.0",
       "_model_name": "FloatProgressModel",
       "_view_count": null,
       "_view_module": "@jupyter-widgets/controls",
       "_view_module_version": "2.0.0",
       "_view_name": "ProgressView",
       "bar_style": "success",
       "description": "",
       "description_allow_html": false,
       "layout": "IPY_MODEL_a7abf661d49c446b9ad05782fb3409e6",
       "max": 900.0,
       "min": 0.0,
       "orientation": "horizontal",
       "style": "IPY_MODEL_31fcd0cc53d7480c919175557f39acb8",
       "tabbable": null,
       "tooltip": null,
       "value": 900.0
      }
     },
     "106f9b701e6747d585ac80f975461b12": {
      "model_module": "@jupyter-widgets/controls",
      "model_module_version": "2.0.0",
      "model_name": "ProgressStyleModel",
      "state": {
       "_model_module": "@jupyter-widgets/controls",
       "_model_module_version": "2.0.0",
       "_model_name": "ProgressStyleModel",
       "_view_count": null,
       "_view_module": "@jupyter-widgets/base",
       "_view_module_version": "2.0.0",
       "_view_name": "StyleView",
       "bar_color": null,
       "description_width": ""
      }
     },
     "14dab992db9849dc9f1fda61127b4bfb": {
      "model_module": "@jupyter-widgets/base",
      "model_module_version": "2.0.0",
      "model_name": "LayoutModel",
      "state": {
       "_model_module": "@jupyter-widgets/base",
       "_model_module_version": "2.0.0",
       "_model_name": "LayoutModel",
       "_view_count": null,
       "_view_module": "@jupyter-widgets/base",
       "_view_module_version": "2.0.0",
       "_view_name": "LayoutView",
       "align_content": null,
       "align_items": null,
       "align_self": null,
       "border_bottom": null,
       "border_left": null,
       "border_right": null,
       "border_top": null,
       "bottom": null,
       "display": null,
       "flex": null,
       "flex_flow": null,
       "grid_area": null,
       "grid_auto_columns": null,
       "grid_auto_flow": null,
       "grid_auto_rows": null,
       "grid_column": null,
       "grid_gap": null,
       "grid_row": null,
       "grid_template_areas": null,
       "grid_template_columns": null,
       "grid_template_rows": null,
       "height": null,
       "justify_content": null,
       "justify_items": null,
       "left": null,
       "margin": null,
       "max_height": null,
       "max_width": null,
       "min_height": null,
       "min_width": null,
       "object_fit": null,
       "object_position": null,
       "order": null,
       "overflow": null,
       "padding": null,
       "right": null,
       "top": null,
       "visibility": null,
       "width": null
      }
     },
     "15be58cbb95f474ab1ac94da6e5f79cb": {
      "model_module": "@jupyter-widgets/controls",
      "model_module_version": "2.0.0",
      "model_name": "ProgressStyleModel",
      "state": {
       "_model_module": "@jupyter-widgets/controls",
       "_model_module_version": "2.0.0",
       "_model_name": "ProgressStyleModel",
       "_view_count": null,
       "_view_module": "@jupyter-widgets/base",
       "_view_module_version": "2.0.0",
       "_view_name": "StyleView",
       "bar_color": null,
       "description_width": ""
      }
     },
     "1afb0a802691421fba235950328d8608": {
      "model_module": "@jupyter-widgets/controls",
      "model_module_version": "2.0.0",
      "model_name": "FloatProgressModel",
      "state": {
       "_dom_classes": [],
       "_model_module": "@jupyter-widgets/controls",
       "_model_module_version": "2.0.0",
       "_model_name": "FloatProgressModel",
       "_view_count": null,
       "_view_module": "@jupyter-widgets/controls",
       "_view_module_version": "2.0.0",
       "_view_name": "ProgressView",
       "bar_style": "success",
       "description": "",
       "description_allow_html": false,
       "layout": "IPY_MODEL_b9fae96897664f8a83e13ae70fe54923",
       "max": 150.0,
       "min": 0.0,
       "orientation": "horizontal",
       "style": "IPY_MODEL_106f9b701e6747d585ac80f975461b12",
       "tabbable": null,
       "tooltip": null,
       "value": 150.0
      }
     },
     "1c2d3d47f703458a9c46afc8d07c0ed1": {
      "model_module": "@jupyter-widgets/controls",
      "model_module_version": "2.0.0",
      "model_name": "ProgressStyleModel",
      "state": {
       "_model_module": "@jupyter-widgets/controls",
       "_model_module_version": "2.0.0",
       "_model_name": "ProgressStyleModel",
       "_view_count": null,
       "_view_module": "@jupyter-widgets/base",
       "_view_module_version": "2.0.0",
       "_view_name": "StyleView",
       "bar_color": null,
       "description_width": ""
      }
     },
     "1d743b8a0d024acaa0f8956ad191db54": {
      "model_module": "@jupyter-widgets/base",
      "model_module_version": "2.0.0",
      "model_name": "LayoutModel",
      "state": {
       "_model_module": "@jupyter-widgets/base",
       "_model_module_version": "2.0.0",
       "_model_name": "LayoutModel",
       "_view_count": null,
       "_view_module": "@jupyter-widgets/base",
       "_view_module_version": "2.0.0",
       "_view_name": "LayoutView",
       "align_content": null,
       "align_items": null,
       "align_self": null,
       "border_bottom": null,
       "border_left": null,
       "border_right": null,
       "border_top": null,
       "bottom": null,
       "display": null,
       "flex": null,
       "flex_flow": null,
       "grid_area": null,
       "grid_auto_columns": null,
       "grid_auto_flow": null,
       "grid_auto_rows": null,
       "grid_column": null,
       "grid_gap": null,
       "grid_row": null,
       "grid_template_areas": null,
       "grid_template_columns": null,
       "grid_template_rows": null,
       "height": null,
       "justify_content": null,
       "justify_items": null,
       "left": null,
       "margin": null,
       "max_height": null,
       "max_width": null,
       "min_height": null,
       "min_width": null,
       "object_fit": null,
       "object_position": null,
       "order": null,
       "overflow": null,
       "padding": null,
       "right": null,
       "top": null,
       "visibility": null,
       "width": null
      }
     },
     "1e5992a012b04df7b3205088d119fb92": {
      "model_module": "@jupyter-widgets/base",
      "model_module_version": "2.0.0",
      "model_name": "LayoutModel",
      "state": {
       "_model_module": "@jupyter-widgets/base",
       "_model_module_version": "2.0.0",
       "_model_name": "LayoutModel",
       "_view_count": null,
       "_view_module": "@jupyter-widgets/base",
       "_view_module_version": "2.0.0",
       "_view_name": "LayoutView",
       "align_content": null,
       "align_items": null,
       "align_self": null,
       "border_bottom": null,
       "border_left": null,
       "border_right": null,
       "border_top": null,
       "bottom": null,
       "display": null,
       "flex": null,
       "flex_flow": null,
       "grid_area": null,
       "grid_auto_columns": null,
       "grid_auto_flow": null,
       "grid_auto_rows": null,
       "grid_column": null,
       "grid_gap": null,
       "grid_row": null,
       "grid_template_areas": null,
       "grid_template_columns": null,
       "grid_template_rows": null,
       "height": null,
       "justify_content": null,
       "justify_items": null,
       "left": null,
       "margin": null,
       "max_height": null,
       "max_width": null,
       "min_height": null,
       "min_width": null,
       "object_fit": null,
       "object_position": null,
       "order": null,
       "overflow": null,
       "padding": null,
       "right": null,
       "top": null,
       "visibility": null,
       "width": null
      }
     },
     "24a36a47bba04bb1a34320503c2c03d5": {
      "model_module": "@jupyter-widgets/controls",
      "model_module_version": "2.0.0",
      "model_name": "HTMLStyleModel",
      "state": {
       "_model_module": "@jupyter-widgets/controls",
       "_model_module_version": "2.0.0",
       "_model_name": "HTMLStyleModel",
       "_view_count": null,
       "_view_module": "@jupyter-widgets/base",
       "_view_module_version": "2.0.0",
       "_view_name": "StyleView",
       "background": null,
       "description_width": "",
       "font_size": null,
       "text_color": null
      }
     },
     "2d36cf1f404c479caa34402d7ed2f8c9": {
      "model_module": "@jupyter-widgets/controls",
      "model_module_version": "2.0.0",
      "model_name": "HBoxModel",
      "state": {
       "_dom_classes": [],
       "_model_module": "@jupyter-widgets/controls",
       "_model_module_version": "2.0.0",
       "_model_name": "HBoxModel",
       "_view_count": null,
       "_view_module": "@jupyter-widgets/controls",
       "_view_module_version": "2.0.0",
       "_view_name": "HBoxView",
       "box_style": "",
       "children": [
        "IPY_MODEL_2f0d52e5181e4291b253faba2495b423",
        "IPY_MODEL_6fffd54971c24450a804a0dbb26b8408",
        "IPY_MODEL_dd50004b052f4d708d1b49ebad73900e"
       ],
       "layout": "IPY_MODEL_3dc7140034a7481487a5b521894e6bc4",
       "tabbable": null,
       "tooltip": null
      }
     },
     "2d3e187b81fd4cc6a007041fdbf7f19d": {
      "model_module": "@jupyter-widgets/controls",
      "model_module_version": "2.0.0",
      "model_name": "HTMLStyleModel",
      "state": {
       "_model_module": "@jupyter-widgets/controls",
       "_model_module_version": "2.0.0",
       "_model_name": "HTMLStyleModel",
       "_view_count": null,
       "_view_module": "@jupyter-widgets/base",
       "_view_module_version": "2.0.0",
       "_view_name": "StyleView",
       "background": null,
       "description_width": "",
       "font_size": null,
       "text_color": null
      }
     },
     "2e53f957cc0f47349fe743ff7d1809e6": {
      "model_module": "@jupyter-widgets/controls",
      "model_module_version": "2.0.0",
      "model_name": "HBoxModel",
      "state": {
       "_dom_classes": [],
       "_model_module": "@jupyter-widgets/controls",
       "_model_module_version": "2.0.0",
       "_model_name": "HBoxModel",
       "_view_count": null,
       "_view_module": "@jupyter-widgets/controls",
       "_view_module_version": "2.0.0",
       "_view_name": "HBoxView",
       "box_style": "",
       "children": [
        "IPY_MODEL_9688c9c284f940ec92084ff490f8b6ad",
        "IPY_MODEL_8a02ff6db5ea43c796f445921a3eaae8",
        "IPY_MODEL_b3936e28a9da4bcc972d6ad3c16ca4ee"
       ],
       "layout": "IPY_MODEL_14dab992db9849dc9f1fda61127b4bfb",
       "tabbable": null,
       "tooltip": null
      }
     },
     "2f0d52e5181e4291b253faba2495b423": {
      "model_module": "@jupyter-widgets/controls",
      "model_module_version": "2.0.0",
      "model_name": "HTMLModel",
      "state": {
       "_dom_classes": [],
       "_model_module": "@jupyter-widgets/controls",
       "_model_module_version": "2.0.0",
       "_model_name": "HTMLModel",
       "_view_count": null,
       "_view_module": "@jupyter-widgets/controls",
       "_view_module_version": "2.0.0",
       "_view_name": "HTMLView",
       "description": "",
       "description_allow_html": false,
       "layout": "IPY_MODEL_de3f6b6071af430fb4768194cb571ef2",
       "placeholder": "​",
       "style": "IPY_MODEL_87074339621e45188ee04cbbe781b13b",
       "tabbable": null,
       "tooltip": null,
       "value": "Converting train dataset to ChatML: 100%"
      }
     },
     "2f7ca5e399204311929e3b27e907ea51": {
      "model_module": "@jupyter-widgets/controls",
      "model_module_version": "2.0.0",
      "model_name": "HTMLModel",
      "state": {
       "_dom_classes": [],
       "_model_module": "@jupyter-widgets/controls",
       "_model_module_version": "2.0.0",
       "_model_name": "HTMLModel",
       "_view_count": null,
       "_view_module": "@jupyter-widgets/controls",
       "_view_module_version": "2.0.0",
       "_view_name": "HTMLView",
       "description": "",
       "description_allow_html": false,
       "layout": "IPY_MODEL_9394b91f0bff400583cc6d09b4880bca",
       "placeholder": "​",
       "style": "IPY_MODEL_d3d8bcde166e4a1ba745e723da68eea2",
       "tabbable": null,
       "tooltip": null,
       "value": " 150/150 [00:00&lt;00:00, 8379.11 examples/s]"
      }
     },
     "2fd4234014f640ba90df203c6146f03d": {
      "model_module": "@jupyter-widgets/controls",
      "model_module_version": "2.0.0",
      "model_name": "HTMLModel",
      "state": {
       "_dom_classes": [],
       "_model_module": "@jupyter-widgets/controls",
       "_model_module_version": "2.0.0",
       "_model_name": "HTMLModel",
       "_view_count": null,
       "_view_module": "@jupyter-widgets/controls",
       "_view_module_version": "2.0.0",
       "_view_name": "HTMLView",
       "description": "",
       "description_allow_html": false,
       "layout": "IPY_MODEL_1e5992a012b04df7b3205088d119fb92",
       "placeholder": "​",
       "style": "IPY_MODEL_9358fe42546641f0928de9fab274bfae",
       "tabbable": null,
       "tooltip": null,
       "value": "Tokenizing eval dataset: 100%"
      }
     },
     "31fcd0cc53d7480c919175557f39acb8": {
      "model_module": "@jupyter-widgets/controls",
      "model_module_version": "2.0.0",
      "model_name": "ProgressStyleModel",
      "state": {
       "_model_module": "@jupyter-widgets/controls",
       "_model_module_version": "2.0.0",
       "_model_name": "ProgressStyleModel",
       "_view_count": null,
       "_view_module": "@jupyter-widgets/base",
       "_view_module_version": "2.0.0",
       "_view_name": "StyleView",
       "bar_color": null,
       "description_width": ""
      }
     },
     "34f2db94fbeb4b4ba4027de697de3947": {
      "model_module": "@jupyter-widgets/controls",
      "model_module_version": "2.0.0",
      "model_name": "HTMLModel",
      "state": {
       "_dom_classes": [],
       "_model_module": "@jupyter-widgets/controls",
       "_model_module_version": "2.0.0",
       "_model_name": "HTMLModel",
       "_view_count": null,
       "_view_module": "@jupyter-widgets/controls",
       "_view_module_version": "2.0.0",
       "_view_name": "HTMLView",
       "description": "",
       "description_allow_html": false,
       "layout": "IPY_MODEL_012b7e68324940bbae5c35f1aca9fe49",
       "placeholder": "​",
       "style": "IPY_MODEL_4e299b4eb6744fa2b521c57020688edd",
       "tabbable": null,
       "tooltip": null,
       "value": "Truncating eval dataset: 100%"
      }
     },
     "375ca1057d3048bd803184bbd53edcfc": {
      "model_module": "@jupyter-widgets/controls",
      "model_module_version": "2.0.0",
      "model_name": "HTMLModel",
      "state": {
       "_dom_classes": [],
       "_model_module": "@jupyter-widgets/controls",
       "_model_module_version": "2.0.0",
       "_model_name": "HTMLModel",
       "_view_count": null,
       "_view_module": "@jupyter-widgets/controls",
       "_view_module_version": "2.0.0",
       "_view_name": "HTMLView",
       "description": "",
       "description_allow_html": false,
       "layout": "IPY_MODEL_5826c5c24db343f8818a41809f279c80",
       "placeholder": "​",
       "style": "IPY_MODEL_24a36a47bba04bb1a34320503c2c03d5",
       "tabbable": null,
       "tooltip": null,
       "value": " 150/150 [00:00&lt;00:00, 9221.09 examples/s]"
      }
     },
     "383a5e138319476ab83aa58cc67996dc": {
      "model_module": "@jupyter-widgets/base",
      "model_module_version": "2.0.0",
      "model_name": "LayoutModel",
      "state": {
       "_model_module": "@jupyter-widgets/base",
       "_model_module_version": "2.0.0",
       "_model_name": "LayoutModel",
       "_view_count": null,
       "_view_module": "@jupyter-widgets/base",
       "_view_module_version": "2.0.0",
       "_view_name": "LayoutView",
       "align_content": null,
       "align_items": null,
       "align_self": null,
       "border_bottom": null,
       "border_left": null,
       "border_right": null,
       "border_top": null,
       "bottom": null,
       "display": null,
       "flex": null,
       "flex_flow": null,
       "grid_area": null,
       "grid_auto_columns": null,
       "grid_auto_flow": null,
       "grid_auto_rows": null,
       "grid_column": null,
       "grid_gap": null,
       "grid_row": null,
       "grid_template_areas": null,
       "grid_template_columns": null,
       "grid_template_rows": null,
       "height": null,
       "justify_content": null,
       "justify_items": null,
       "left": null,
       "margin": null,
       "max_height": null,
       "max_width": null,
       "min_height": null,
       "min_width": null,
       "object_fit": null,
       "object_position": null,
       "order": null,
       "overflow": null,
       "padding": null,
       "right": null,
       "top": null,
       "visibility": null,
       "width": null
      }
     },
     "3904311f4df848b4b2fda1d8c4e27ef4": {
      "model_module": "@jupyter-widgets/base",
      "model_module_version": "2.0.0",
      "model_name": "LayoutModel",
      "state": {
       "_model_module": "@jupyter-widgets/base",
       "_model_module_version": "2.0.0",
       "_model_name": "LayoutModel",
       "_view_count": null,
       "_view_module": "@jupyter-widgets/base",
       "_view_module_version": "2.0.0",
       "_view_name": "LayoutView",
       "align_content": null,
       "align_items": null,
       "align_self": null,
       "border_bottom": null,
       "border_left": null,
       "border_right": null,
       "border_top": null,
       "bottom": null,
       "display": null,
       "flex": null,
       "flex_flow": null,
       "grid_area": null,
       "grid_auto_columns": null,
       "grid_auto_flow": null,
       "grid_auto_rows": null,
       "grid_column": null,
       "grid_gap": null,
       "grid_row": null,
       "grid_template_areas": null,
       "grid_template_columns": null,
       "grid_template_rows": null,
       "height": null,
       "justify_content": null,
       "justify_items": null,
       "left": null,
       "margin": null,
       "max_height": null,
       "max_width": null,
       "min_height": null,
       "min_width": null,
       "object_fit": null,
       "object_position": null,
       "order": null,
       "overflow": null,
       "padding": null,
       "right": null,
       "top": null,
       "visibility": null,
       "width": null
      }
     },
     "3dc7140034a7481487a5b521894e6bc4": {
      "model_module": "@jupyter-widgets/base",
      "model_module_version": "2.0.0",
      "model_name": "LayoutModel",
      "state": {
       "_model_module": "@jupyter-widgets/base",
       "_model_module_version": "2.0.0",
       "_model_name": "LayoutModel",
       "_view_count": null,
       "_view_module": "@jupyter-widgets/base",
       "_view_module_version": "2.0.0",
       "_view_name": "LayoutView",
       "align_content": null,
       "align_items": null,
       "align_self": null,
       "border_bottom": null,
       "border_left": null,
       "border_right": null,
       "border_top": null,
       "bottom": null,
       "display": null,
       "flex": null,
       "flex_flow": null,
       "grid_area": null,
       "grid_auto_columns": null,
       "grid_auto_flow": null,
       "grid_auto_rows": null,
       "grid_column": null,
       "grid_gap": null,
       "grid_row": null,
       "grid_template_areas": null,
       "grid_template_columns": null,
       "grid_template_rows": null,
       "height": null,
       "justify_content": null,
       "justify_items": null,
       "left": null,
       "margin": null,
       "max_height": null,
       "max_width": null,
       "min_height": null,
       "min_width": null,
       "object_fit": null,
       "object_position": null,
       "order": null,
       "overflow": null,
       "padding": null,
       "right": null,
       "top": null,
       "visibility": null,
       "width": null
      }
     },
     "3ded8fd0159c425db0ae0e28c94e6716": {
      "model_module": "@jupyter-widgets/controls",
      "model_module_version": "2.0.0",
      "model_name": "HTMLModel",
      "state": {
       "_dom_classes": [],
       "_model_module": "@jupyter-widgets/controls",
       "_model_module_version": "2.0.0",
       "_model_name": "HTMLModel",
       "_view_count": null,
       "_view_module": "@jupyter-widgets/controls",
       "_view_module_version": "2.0.0",
       "_view_name": "HTMLView",
       "description": "",
       "description_allow_html": false,
       "layout": "IPY_MODEL_09b6db6f106140d895e02be1af3fa32d",
       "placeholder": "​",
       "style": "IPY_MODEL_f2c2b377306d426097369b4fbb2cfc05",
       "tabbable": null,
       "tooltip": null,
       "value": " 150/150 [00:00&lt;00:00, 11706.12 examples/s]"
      }
     },
     "4467f3382e2846edb38eac4a949ebd00": {
      "model_module": "@jupyter-widgets/controls",
      "model_module_version": "2.0.0",
      "model_name": "HBoxModel",
      "state": {
       "_dom_classes": [],
       "_model_module": "@jupyter-widgets/controls",
       "_model_module_version": "2.0.0",
       "_model_name": "HBoxModel",
       "_view_count": null,
       "_view_module": "@jupyter-widgets/controls",
       "_view_module_version": "2.0.0",
       "_view_name": "HBoxView",
       "box_style": "",
       "children": [
        "IPY_MODEL_d433ee00e73840df8e33b93ff37f90b6",
        "IPY_MODEL_c8579ca1a19743c1a693c1d0078cc6b5",
        "IPY_MODEL_2f7ca5e399204311929e3b27e907ea51"
       ],
       "layout": "IPY_MODEL_511da184e47c446a85acfe9005432fa7",
       "tabbable": null,
       "tooltip": null
      }
     },
     "46802eafbe0a4347be97e0afa49b52da": {
      "model_module": "@jupyter-widgets/base",
      "model_module_version": "2.0.0",
      "model_name": "LayoutModel",
      "state": {
       "_model_module": "@jupyter-widgets/base",
       "_model_module_version": "2.0.0",
       "_model_name": "LayoutModel",
       "_view_count": null,
       "_view_module": "@jupyter-widgets/base",
       "_view_module_version": "2.0.0",
       "_view_name": "LayoutView",
       "align_content": null,
       "align_items": null,
       "align_self": null,
       "border_bottom": null,
       "border_left": null,
       "border_right": null,
       "border_top": null,
       "bottom": null,
       "display": null,
       "flex": null,
       "flex_flow": null,
       "grid_area": null,
       "grid_auto_columns": null,
       "grid_auto_flow": null,
       "grid_auto_rows": null,
       "grid_column": null,
       "grid_gap": null,
       "grid_row": null,
       "grid_template_areas": null,
       "grid_template_columns": null,
       "grid_template_rows": null,
       "height": null,
       "justify_content": null,
       "justify_items": null,
       "left": null,
       "margin": null,
       "max_height": null,
       "max_width": null,
       "min_height": null,
       "min_width": null,
       "object_fit": null,
       "object_position": null,
       "order": null,
       "overflow": null,
       "padding": null,
       "right": null,
       "top": null,
       "visibility": null,
       "width": null
      }
     },
     "4a7c940622d143569e18ab83a8464cc6": {
      "model_module": "@jupyter-widgets/controls",
      "model_module_version": "2.0.0",
      "model_name": "HTMLModel",
      "state": {
       "_dom_classes": [],
       "_model_module": "@jupyter-widgets/controls",
       "_model_module_version": "2.0.0",
       "_model_name": "HTMLModel",
       "_view_count": null,
       "_view_module": "@jupyter-widgets/controls",
       "_view_module_version": "2.0.0",
       "_view_name": "HTMLView",
       "description": "",
       "description_allow_html": false,
       "layout": "IPY_MODEL_85be928e466a4743bd31dd99561e6a0f",
       "placeholder": "​",
       "style": "IPY_MODEL_b886251e2e9549e9bbc04cba02b12fa9",
       "tabbable": null,
       "tooltip": null,
       "value": "Truncating train dataset: 100%"
      }
     },
     "4e299b4eb6744fa2b521c57020688edd": {
      "model_module": "@jupyter-widgets/controls",
      "model_module_version": "2.0.0",
      "model_name": "HTMLStyleModel",
      "state": {
       "_model_module": "@jupyter-widgets/controls",
       "_model_module_version": "2.0.0",
       "_model_name": "HTMLStyleModel",
       "_view_count": null,
       "_view_module": "@jupyter-widgets/base",
       "_view_module_version": "2.0.0",
       "_view_name": "StyleView",
       "background": null,
       "description_width": "",
       "font_size": null,
       "text_color": null
      }
     },
     "511da184e47c446a85acfe9005432fa7": {
      "model_module": "@jupyter-widgets/base",
      "model_module_version": "2.0.0",
      "model_name": "LayoutModel",
      "state": {
       "_model_module": "@jupyter-widgets/base",
       "_model_module_version": "2.0.0",
       "_model_name": "LayoutModel",
       "_view_count": null,
       "_view_module": "@jupyter-widgets/base",
       "_view_module_version": "2.0.0",
       "_view_name": "LayoutView",
       "align_content": null,
       "align_items": null,
       "align_self": null,
       "border_bottom": null,
       "border_left": null,
       "border_right": null,
       "border_top": null,
       "bottom": null,
       "display": null,
       "flex": null,
       "flex_flow": null,
       "grid_area": null,
       "grid_auto_columns": null,
       "grid_auto_flow": null,
       "grid_auto_rows": null,
       "grid_column": null,
       "grid_gap": null,
       "grid_row": null,
       "grid_template_areas": null,
       "grid_template_columns": null,
       "grid_template_rows": null,
       "height": null,
       "justify_content": null,
       "justify_items": null,
       "left": null,
       "margin": null,
       "max_height": null,
       "max_width": null,
       "min_height": null,
       "min_width": null,
       "object_fit": null,
       "object_position": null,
       "order": null,
       "overflow": null,
       "padding": null,
       "right": null,
       "top": null,
       "visibility": null,
       "width": null
      }
     },
     "52d6014a513a43aea71ccd025e352f30": {
      "model_module": "@jupyter-widgets/base",
      "model_module_version": "2.0.0",
      "model_name": "LayoutModel",
      "state": {
       "_model_module": "@jupyter-widgets/base",
       "_model_module_version": "2.0.0",
       "_model_name": "LayoutModel",
       "_view_count": null,
       "_view_module": "@jupyter-widgets/base",
       "_view_module_version": "2.0.0",
       "_view_name": "LayoutView",
       "align_content": null,
       "align_items": null,
       "align_self": null,
       "border_bottom": null,
       "border_left": null,
       "border_right": null,
       "border_top": null,
       "bottom": null,
       "display": null,
       "flex": null,
       "flex_flow": null,
       "grid_area": null,
       "grid_auto_columns": null,
       "grid_auto_flow": null,
       "grid_auto_rows": null,
       "grid_column": null,
       "grid_gap": null,
       "grid_row": null,
       "grid_template_areas": null,
       "grid_template_columns": null,
       "grid_template_rows": null,
       "height": null,
       "justify_content": null,
       "justify_items": null,
       "left": null,
       "margin": null,
       "max_height": null,
       "max_width": null,
       "min_height": null,
       "min_width": null,
       "object_fit": null,
       "object_position": null,
       "order": null,
       "overflow": null,
       "padding": null,
       "right": null,
       "top": null,
       "visibility": null,
       "width": null
      }
     },
     "5826c5c24db343f8818a41809f279c80": {
      "model_module": "@jupyter-widgets/base",
      "model_module_version": "2.0.0",
      "model_name": "LayoutModel",
      "state": {
       "_model_module": "@jupyter-widgets/base",
       "_model_module_version": "2.0.0",
       "_model_name": "LayoutModel",
       "_view_count": null,
       "_view_module": "@jupyter-widgets/base",
       "_view_module_version": "2.0.0",
       "_view_name": "LayoutView",
       "align_content": null,
       "align_items": null,
       "align_self": null,
       "border_bottom": null,
       "border_left": null,
       "border_right": null,
       "border_top": null,
       "bottom": null,
       "display": null,
       "flex": null,
       "flex_flow": null,
       "grid_area": null,
       "grid_auto_columns": null,
       "grid_auto_flow": null,
       "grid_auto_rows": null,
       "grid_column": null,
       "grid_gap": null,
       "grid_row": null,
       "grid_template_areas": null,
       "grid_template_columns": null,
       "grid_template_rows": null,
       "height": null,
       "justify_content": null,
       "justify_items": null,
       "left": null,
       "margin": null,
       "max_height": null,
       "max_width": null,
       "min_height": null,
       "min_width": null,
       "object_fit": null,
       "object_position": null,
       "order": null,
       "overflow": null,
       "padding": null,
       "right": null,
       "top": null,
       "visibility": null,
       "width": null
      }
     },
     "5d4fee6135f94900a11e9fb7910f95f3": {
      "model_module": "@jupyter-widgets/controls",
      "model_module_version": "2.0.0",
      "model_name": "HBoxModel",
      "state": {
       "_dom_classes": [],
       "_model_module": "@jupyter-widgets/controls",
       "_model_module_version": "2.0.0",
       "_model_name": "HBoxModel",
       "_view_count": null,
       "_view_module": "@jupyter-widgets/controls",
       "_view_module_version": "2.0.0",
       "_view_name": "HBoxView",
       "box_style": "",
       "children": [
        "IPY_MODEL_ec287a9f82384fd782be1c71e6b44c76",
        "IPY_MODEL_7ae3d4e1b42a48d9961e2d3eb863b8ff",
        "IPY_MODEL_375ca1057d3048bd803184bbd53edcfc"
       ],
       "layout": "IPY_MODEL_a74665ec290e49ff96c1ee28e6b185a8",
       "tabbable": null,
       "tooltip": null
      }
     },
     "5eb286881fd04a52906bf13b09958797": {
      "model_module": "@jupyter-widgets/base",
      "model_module_version": "2.0.0",
      "model_name": "LayoutModel",
      "state": {
       "_model_module": "@jupyter-widgets/base",
       "_model_module_version": "2.0.0",
       "_model_name": "LayoutModel",
       "_view_count": null,
       "_view_module": "@jupyter-widgets/base",
       "_view_module_version": "2.0.0",
       "_view_name": "LayoutView",
       "align_content": null,
       "align_items": null,
       "align_self": null,
       "border_bottom": null,
       "border_left": null,
       "border_right": null,
       "border_top": null,
       "bottom": null,
       "display": null,
       "flex": null,
       "flex_flow": null,
       "grid_area": null,
       "grid_auto_columns": null,
       "grid_auto_flow": null,
       "grid_auto_rows": null,
       "grid_column": null,
       "grid_gap": null,
       "grid_row": null,
       "grid_template_areas": null,
       "grid_template_columns": null,
       "grid_template_rows": null,
       "height": null,
       "justify_content": null,
       "justify_items": null,
       "left": null,
       "margin": null,
       "max_height": null,
       "max_width": null,
       "min_height": null,
       "min_width": null,
       "object_fit": null,
       "object_position": null,
       "order": null,
       "overflow": null,
       "padding": null,
       "right": null,
       "top": null,
       "visibility": null,
       "width": null
      }
     },
     "61691e16f8534a35abe16c736465ebe1": {
      "model_module": "@jupyter-widgets/base",
      "model_module_version": "2.0.0",
      "model_name": "LayoutModel",
      "state": {
       "_model_module": "@jupyter-widgets/base",
       "_model_module_version": "2.0.0",
       "_model_name": "LayoutModel",
       "_view_count": null,
       "_view_module": "@jupyter-widgets/base",
       "_view_module_version": "2.0.0",
       "_view_name": "LayoutView",
       "align_content": null,
       "align_items": null,
       "align_self": null,
       "border_bottom": null,
       "border_left": null,
       "border_right": null,
       "border_top": null,
       "bottom": null,
       "display": null,
       "flex": null,
       "flex_flow": null,
       "grid_area": null,
       "grid_auto_columns": null,
       "grid_auto_flow": null,
       "grid_auto_rows": null,
       "grid_column": null,
       "grid_gap": null,
       "grid_row": null,
       "grid_template_areas": null,
       "grid_template_columns": null,
       "grid_template_rows": null,
       "height": null,
       "justify_content": null,
       "justify_items": null,
       "left": null,
       "margin": null,
       "max_height": null,
       "max_width": null,
       "min_height": null,
       "min_width": null,
       "object_fit": null,
       "object_position": null,
       "order": null,
       "overflow": null,
       "padding": null,
       "right": null,
       "top": null,
       "visibility": null,
       "width": null
      }
     },
     "6e671006337c49f3b7c60850a7a1fc27": {
      "model_module": "@jupyter-widgets/controls",
      "model_module_version": "2.0.0",
      "model_name": "ProgressStyleModel",
      "state": {
       "_model_module": "@jupyter-widgets/controls",
       "_model_module_version": "2.0.0",
       "_model_name": "ProgressStyleModel",
       "_view_count": null,
       "_view_module": "@jupyter-widgets/base",
       "_view_module_version": "2.0.0",
       "_view_name": "StyleView",
       "bar_color": null,
       "description_width": ""
      }
     },
     "6fffd54971c24450a804a0dbb26b8408": {
      "model_module": "@jupyter-widgets/controls",
      "model_module_version": "2.0.0",
      "model_name": "FloatProgressModel",
      "state": {
       "_dom_classes": [],
       "_model_module": "@jupyter-widgets/controls",
       "_model_module_version": "2.0.0",
       "_model_name": "FloatProgressModel",
       "_view_count": null,
       "_view_module": "@jupyter-widgets/controls",
       "_view_module_version": "2.0.0",
       "_view_name": "ProgressView",
       "bar_style": "success",
       "description": "",
       "description_allow_html": false,
       "layout": "IPY_MODEL_1d743b8a0d024acaa0f8956ad191db54",
       "max": 900.0,
       "min": 0.0,
       "orientation": "horizontal",
       "style": "IPY_MODEL_f2b08989aafa45a38fb621cc3ab8e4bf",
       "tabbable": null,
       "tooltip": null,
       "value": 900.0
      }
     },
     "7ae3d4e1b42a48d9961e2d3eb863b8ff": {
      "model_module": "@jupyter-widgets/controls",
      "model_module_version": "2.0.0",
      "model_name": "FloatProgressModel",
      "state": {
       "_dom_classes": [],
       "_model_module": "@jupyter-widgets/controls",
       "_model_module_version": "2.0.0",
       "_model_name": "FloatProgressModel",
       "_view_count": null,
       "_view_module": "@jupyter-widgets/controls",
       "_view_module_version": "2.0.0",
       "_view_name": "ProgressView",
       "bar_style": "success",
       "description": "",
       "description_allow_html": false,
       "layout": "IPY_MODEL_001e08b9ed1a47d7a04b0bcd2026cdb5",
       "max": 150.0,
       "min": 0.0,
       "orientation": "horizontal",
       "style": "IPY_MODEL_8952b64c304747a28d1b3b11c979123e",
       "tabbable": null,
       "tooltip": null,
       "value": 150.0
      }
     },
     "7b1865c327ca487daece1c10de08b852": {
      "model_module": "@jupyter-widgets/base",
      "model_module_version": "2.0.0",
      "model_name": "LayoutModel",
      "state": {
       "_model_module": "@jupyter-widgets/base",
       "_model_module_version": "2.0.0",
       "_model_name": "LayoutModel",
       "_view_count": null,
       "_view_module": "@jupyter-widgets/base",
       "_view_module_version": "2.0.0",
       "_view_name": "LayoutView",
       "align_content": null,
       "align_items": null,
       "align_self": null,
       "border_bottom": null,
       "border_left": null,
       "border_right": null,
       "border_top": null,
       "bottom": null,
       "display": null,
       "flex": null,
       "flex_flow": null,
       "grid_area": null,
       "grid_auto_columns": null,
       "grid_auto_flow": null,
       "grid_auto_rows": null,
       "grid_column": null,
       "grid_gap": null,
       "grid_row": null,
       "grid_template_areas": null,
       "grid_template_columns": null,
       "grid_template_rows": null,
       "height": null,
       "justify_content": null,
       "justify_items": null,
       "left": null,
       "margin": null,
       "max_height": null,
       "max_width": null,
       "min_height": null,
       "min_width": null,
       "object_fit": null,
       "object_position": null,
       "order": null,
       "overflow": null,
       "padding": null,
       "right": null,
       "top": null,
       "visibility": null,
       "width": null
      }
     },
     "7e44868811f9437d88047201e1378915": {
      "model_module": "@jupyter-widgets/base",
      "model_module_version": "2.0.0",
      "model_name": "LayoutModel",
      "state": {
       "_model_module": "@jupyter-widgets/base",
       "_model_module_version": "2.0.0",
       "_model_name": "LayoutModel",
       "_view_count": null,
       "_view_module": "@jupyter-widgets/base",
       "_view_module_version": "2.0.0",
       "_view_name": "LayoutView",
       "align_content": null,
       "align_items": null,
       "align_self": null,
       "border_bottom": null,
       "border_left": null,
       "border_right": null,
       "border_top": null,
       "bottom": null,
       "display": null,
       "flex": null,
       "flex_flow": null,
       "grid_area": null,
       "grid_auto_columns": null,
       "grid_auto_flow": null,
       "grid_auto_rows": null,
       "grid_column": null,
       "grid_gap": null,
       "grid_row": null,
       "grid_template_areas": null,
       "grid_template_columns": null,
       "grid_template_rows": null,
       "height": null,
       "justify_content": null,
       "justify_items": null,
       "left": null,
       "margin": null,
       "max_height": null,
       "max_width": null,
       "min_height": null,
       "min_width": null,
       "object_fit": null,
       "object_position": null,
       "order": null,
       "overflow": null,
       "padding": null,
       "right": null,
       "top": null,
       "visibility": null,
       "width": null
      }
     },
     "85be928e466a4743bd31dd99561e6a0f": {
      "model_module": "@jupyter-widgets/base",
      "model_module_version": "2.0.0",
      "model_name": "LayoutModel",
      "state": {
       "_model_module": "@jupyter-widgets/base",
       "_model_module_version": "2.0.0",
       "_model_name": "LayoutModel",
       "_view_count": null,
       "_view_module": "@jupyter-widgets/base",
       "_view_module_version": "2.0.0",
       "_view_name": "LayoutView",
       "align_content": null,
       "align_items": null,
       "align_self": null,
       "border_bottom": null,
       "border_left": null,
       "border_right": null,
       "border_top": null,
       "bottom": null,
       "display": null,
       "flex": null,
       "flex_flow": null,
       "grid_area": null,
       "grid_auto_columns": null,
       "grid_auto_flow": null,
       "grid_auto_rows": null,
       "grid_column": null,
       "grid_gap": null,
       "grid_row": null,
       "grid_template_areas": null,
       "grid_template_columns": null,
       "grid_template_rows": null,
       "height": null,
       "justify_content": null,
       "justify_items": null,
       "left": null,
       "margin": null,
       "max_height": null,
       "max_width": null,
       "min_height": null,
       "min_width": null,
       "object_fit": null,
       "object_position": null,
       "order": null,
       "overflow": null,
       "padding": null,
       "right": null,
       "top": null,
       "visibility": null,
       "width": null
      }
     },
     "87074339621e45188ee04cbbe781b13b": {
      "model_module": "@jupyter-widgets/controls",
      "model_module_version": "2.0.0",
      "model_name": "HTMLStyleModel",
      "state": {
       "_model_module": "@jupyter-widgets/controls",
       "_model_module_version": "2.0.0",
       "_model_name": "HTMLStyleModel",
       "_view_count": null,
       "_view_module": "@jupyter-widgets/base",
       "_view_module_version": "2.0.0",
       "_view_name": "StyleView",
       "background": null,
       "description_width": "",
       "font_size": null,
       "text_color": null
      }
     },
     "8952b64c304747a28d1b3b11c979123e": {
      "model_module": "@jupyter-widgets/controls",
      "model_module_version": "2.0.0",
      "model_name": "ProgressStyleModel",
      "state": {
       "_model_module": "@jupyter-widgets/controls",
       "_model_module_version": "2.0.0",
       "_model_name": "ProgressStyleModel",
       "_view_count": null,
       "_view_module": "@jupyter-widgets/base",
       "_view_module_version": "2.0.0",
       "_view_name": "StyleView",
       "bar_color": null,
       "description_width": ""
      }
     },
     "89cbbd9e54084f719ebb7348a312afd2": {
      "model_module": "@jupyter-widgets/controls",
      "model_module_version": "2.0.0",
      "model_name": "HTMLStyleModel",
      "state": {
       "_model_module": "@jupyter-widgets/controls",
       "_model_module_version": "2.0.0",
       "_model_name": "HTMLStyleModel",
       "_view_count": null,
       "_view_module": "@jupyter-widgets/base",
       "_view_module_version": "2.0.0",
       "_view_name": "StyleView",
       "background": null,
       "description_width": "",
       "font_size": null,
       "text_color": null
      }
     },
     "8a02ff6db5ea43c796f445921a3eaae8": {
      "model_module": "@jupyter-widgets/controls",
      "model_module_version": "2.0.0",
      "model_name": "FloatProgressModel",
      "state": {
       "_dom_classes": [],
       "_model_module": "@jupyter-widgets/controls",
       "_model_module_version": "2.0.0",
       "_model_name": "FloatProgressModel",
       "_view_count": null,
       "_view_module": "@jupyter-widgets/controls",
       "_view_module_version": "2.0.0",
       "_view_name": "ProgressView",
       "bar_style": "success",
       "description": "",
       "description_allow_html": false,
       "layout": "IPY_MODEL_f2a829e16ad5408eaf7fd821ed051fad",
       "max": 900.0,
       "min": 0.0,
       "orientation": "horizontal",
       "style": "IPY_MODEL_15be58cbb95f474ab1ac94da6e5f79cb",
       "tabbable": null,
       "tooltip": null,
       "value": 900.0
      }
     },
     "9358fe42546641f0928de9fab274bfae": {
      "model_module": "@jupyter-widgets/controls",
      "model_module_version": "2.0.0",
      "model_name": "HTMLStyleModel",
      "state": {
       "_model_module": "@jupyter-widgets/controls",
       "_model_module_version": "2.0.0",
       "_model_name": "HTMLStyleModel",
       "_view_count": null,
       "_view_module": "@jupyter-widgets/base",
       "_view_module_version": "2.0.0",
       "_view_name": "StyleView",
       "background": null,
       "description_width": "",
       "font_size": null,
       "text_color": null
      }
     },
     "9394b91f0bff400583cc6d09b4880bca": {
      "model_module": "@jupyter-widgets/base",
      "model_module_version": "2.0.0",
      "model_name": "LayoutModel",
      "state": {
       "_model_module": "@jupyter-widgets/base",
       "_model_module_version": "2.0.0",
       "_model_name": "LayoutModel",
       "_view_count": null,
       "_view_module": "@jupyter-widgets/base",
       "_view_module_version": "2.0.0",
       "_view_name": "LayoutView",
       "align_content": null,
       "align_items": null,
       "align_self": null,
       "border_bottom": null,
       "border_left": null,
       "border_right": null,
       "border_top": null,
       "bottom": null,
       "display": null,
       "flex": null,
       "flex_flow": null,
       "grid_area": null,
       "grid_auto_columns": null,
       "grid_auto_flow": null,
       "grid_auto_rows": null,
       "grid_column": null,
       "grid_gap": null,
       "grid_row": null,
       "grid_template_areas": null,
       "grid_template_columns": null,
       "grid_template_rows": null,
       "height": null,
       "justify_content": null,
       "justify_items": null,
       "left": null,
       "margin": null,
       "max_height": null,
       "max_width": null,
       "min_height": null,
       "min_width": null,
       "object_fit": null,
       "object_position": null,
       "order": null,
       "overflow": null,
       "padding": null,
       "right": null,
       "top": null,
       "visibility": null,
       "width": null
      }
     },
     "93eb70579ff645aba01e836f69be829b": {
      "model_module": "@jupyter-widgets/controls",
      "model_module_version": "2.0.0",
      "model_name": "HTMLStyleModel",
      "state": {
       "_model_module": "@jupyter-widgets/controls",
       "_model_module_version": "2.0.0",
       "_model_name": "HTMLStyleModel",
       "_view_count": null,
       "_view_module": "@jupyter-widgets/base",
       "_view_module_version": "2.0.0",
       "_view_name": "StyleView",
       "background": null,
       "description_width": "",
       "font_size": null,
       "text_color": null
      }
     },
     "9688c9c284f940ec92084ff490f8b6ad": {
      "model_module": "@jupyter-widgets/controls",
      "model_module_version": "2.0.0",
      "model_name": "HTMLModel",
      "state": {
       "_dom_classes": [],
       "_model_module": "@jupyter-widgets/controls",
       "_model_module_version": "2.0.0",
       "_model_name": "HTMLModel",
       "_view_count": null,
       "_view_module": "@jupyter-widgets/controls",
       "_view_module_version": "2.0.0",
       "_view_name": "HTMLView",
       "description": "",
       "description_allow_html": false,
       "layout": "IPY_MODEL_f755a3184f034612b64a9b674b912a64",
       "placeholder": "​",
       "style": "IPY_MODEL_bd5734c00a424ddd92768abafb2e3e67",
       "tabbable": null,
       "tooltip": null,
       "value": "Tokenizing train dataset: 100%"
      }
     },
     "985919eb0f0941fcaebb5e4c733a6716": {
      "model_module": "@jupyter-widgets/base",
      "model_module_version": "2.0.0",
      "model_name": "LayoutModel",
      "state": {
       "_model_module": "@jupyter-widgets/base",
       "_model_module_version": "2.0.0",
       "_model_name": "LayoutModel",
       "_view_count": null,
       "_view_module": "@jupyter-widgets/base",
       "_view_module_version": "2.0.0",
       "_view_name": "LayoutView",
       "align_content": null,
       "align_items": null,
       "align_self": null,
       "border_bottom": null,
       "border_left": null,
       "border_right": null,
       "border_top": null,
       "bottom": null,
       "display": null,
       "flex": null,
       "flex_flow": null,
       "grid_area": null,
       "grid_auto_columns": null,
       "grid_auto_flow": null,
       "grid_auto_rows": null,
       "grid_column": null,
       "grid_gap": null,
       "grid_row": null,
       "grid_template_areas": null,
       "grid_template_columns": null,
       "grid_template_rows": null,
       "height": null,
       "justify_content": null,
       "justify_items": null,
       "left": null,
       "margin": null,
       "max_height": null,
       "max_width": null,
       "min_height": null,
       "min_width": null,
       "object_fit": null,
       "object_position": null,
       "order": null,
       "overflow": null,
       "padding": null,
       "right": null,
       "top": null,
       "visibility": null,
       "width": null
      }
     },
     "a74665ec290e49ff96c1ee28e6b185a8": {
      "model_module": "@jupyter-widgets/base",
      "model_module_version": "2.0.0",
      "model_name": "LayoutModel",
      "state": {
       "_model_module": "@jupyter-widgets/base",
       "_model_module_version": "2.0.0",
       "_model_name": "LayoutModel",
       "_view_count": null,
       "_view_module": "@jupyter-widgets/base",
       "_view_module_version": "2.0.0",
       "_view_name": "LayoutView",
       "align_content": null,
       "align_items": null,
       "align_self": null,
       "border_bottom": null,
       "border_left": null,
       "border_right": null,
       "border_top": null,
       "bottom": null,
       "display": null,
       "flex": null,
       "flex_flow": null,
       "grid_area": null,
       "grid_auto_columns": null,
       "grid_auto_flow": null,
       "grid_auto_rows": null,
       "grid_column": null,
       "grid_gap": null,
       "grid_row": null,
       "grid_template_areas": null,
       "grid_template_columns": null,
       "grid_template_rows": null,
       "height": null,
       "justify_content": null,
       "justify_items": null,
       "left": null,
       "margin": null,
       "max_height": null,
       "max_width": null,
       "min_height": null,
       "min_width": null,
       "object_fit": null,
       "object_position": null,
       "order": null,
       "overflow": null,
       "padding": null,
       "right": null,
       "top": null,
       "visibility": null,
       "width": null
      }
     },
     "a7abf661d49c446b9ad05782fb3409e6": {
      "model_module": "@jupyter-widgets/base",
      "model_module_version": "2.0.0",
      "model_name": "LayoutModel",
      "state": {
       "_model_module": "@jupyter-widgets/base",
       "_model_module_version": "2.0.0",
       "_model_name": "LayoutModel",
       "_view_count": null,
       "_view_module": "@jupyter-widgets/base",
       "_view_module_version": "2.0.0",
       "_view_name": "LayoutView",
       "align_content": null,
       "align_items": null,
       "align_self": null,
       "border_bottom": null,
       "border_left": null,
       "border_right": null,
       "border_top": null,
       "bottom": null,
       "display": null,
       "flex": null,
       "flex_flow": null,
       "grid_area": null,
       "grid_auto_columns": null,
       "grid_auto_flow": null,
       "grid_auto_rows": null,
       "grid_column": null,
       "grid_gap": null,
       "grid_row": null,
       "grid_template_areas": null,
       "grid_template_columns": null,
       "grid_template_rows": null,
       "height": null,
       "justify_content": null,
       "justify_items": null,
       "left": null,
       "margin": null,
       "max_height": null,
       "max_width": null,
       "min_height": null,
       "min_width": null,
       "object_fit": null,
       "object_position": null,
       "order": null,
       "overflow": null,
       "padding": null,
       "right": null,
       "top": null,
       "visibility": null,
       "width": null
      }
     },
     "acb8c52645f844e090be405f9a1e9d76": {
      "model_module": "@jupyter-widgets/controls",
      "model_module_version": "2.0.0",
      "model_name": "ProgressStyleModel",
      "state": {
       "_model_module": "@jupyter-widgets/controls",
       "_model_module_version": "2.0.0",
       "_model_name": "ProgressStyleModel",
       "_view_count": null,
       "_view_module": "@jupyter-widgets/base",
       "_view_module_version": "2.0.0",
       "_view_name": "StyleView",
       "bar_color": null,
       "description_width": ""
      }
     },
     "aee2201cc2224d35867537958206ff03": {
      "model_module": "@jupyter-widgets/base",
      "model_module_version": "2.0.0",
      "model_name": "LayoutModel",
      "state": {
       "_model_module": "@jupyter-widgets/base",
       "_model_module_version": "2.0.0",
       "_model_name": "LayoutModel",
       "_view_count": null,
       "_view_module": "@jupyter-widgets/base",
       "_view_module_version": "2.0.0",
       "_view_name": "LayoutView",
       "align_content": null,
       "align_items": null,
       "align_self": null,
       "border_bottom": null,
       "border_left": null,
       "border_right": null,
       "border_top": null,
       "bottom": null,
       "display": null,
       "flex": null,
       "flex_flow": null,
       "grid_area": null,
       "grid_auto_columns": null,
       "grid_auto_flow": null,
       "grid_auto_rows": null,
       "grid_column": null,
       "grid_gap": null,
       "grid_row": null,
       "grid_template_areas": null,
       "grid_template_columns": null,
       "grid_template_rows": null,
       "height": null,
       "justify_content": null,
       "justify_items": null,
       "left": null,
       "margin": null,
       "max_height": null,
       "max_width": null,
       "min_height": null,
       "min_width": null,
       "object_fit": null,
       "object_position": null,
       "order": null,
       "overflow": null,
       "padding": null,
       "right": null,
       "top": null,
       "visibility": null,
       "width": null
      }
     },
     "b1ad17f2209f4fbb9ef5930b6bf7018d": {
      "model_module": "@jupyter-widgets/controls",
      "model_module_version": "2.0.0",
      "model_name": "HBoxModel",
      "state": {
       "_dom_classes": [],
       "_model_module": "@jupyter-widgets/controls",
       "_model_module_version": "2.0.0",
       "_model_name": "HBoxModel",
       "_view_count": null,
       "_view_module": "@jupyter-widgets/controls",
       "_view_module_version": "2.0.0",
       "_view_name": "HBoxView",
       "box_style": "",
       "children": [
        "IPY_MODEL_4a7c940622d143569e18ab83a8464cc6",
        "IPY_MODEL_c95430e6c444498ba7b2a90df50caef5",
        "IPY_MODEL_b3a15ffd5aff414993bbe841a7c1c48b"
       ],
       "layout": "IPY_MODEL_3904311f4df848b4b2fda1d8c4e27ef4",
       "tabbable": null,
       "tooltip": null
      }
     },
     "b3936e28a9da4bcc972d6ad3c16ca4ee": {
      "model_module": "@jupyter-widgets/controls",
      "model_module_version": "2.0.0",
      "model_name": "HTMLModel",
      "state": {
       "_dom_classes": [],
       "_model_module": "@jupyter-widgets/controls",
       "_model_module_version": "2.0.0",
       "_model_name": "HTMLModel",
       "_view_count": null,
       "_view_module": "@jupyter-widgets/controls",
       "_view_module_version": "2.0.0",
       "_view_name": "HTMLView",
       "description": "",
       "description_allow_html": false,
       "layout": "IPY_MODEL_ee51aa0fe6504599af5c6fb75051f39c",
       "placeholder": "​",
       "style": "IPY_MODEL_f07503c5b23140469888b7178792a490",
       "tabbable": null,
       "tooltip": null,
       "value": " 900/900 [00:00&lt;00:00, 2860.63 examples/s]"
      }
     },
     "b3a15ffd5aff414993bbe841a7c1c48b": {
      "model_module": "@jupyter-widgets/controls",
      "model_module_version": "2.0.0",
      "model_name": "HTMLModel",
      "state": {
       "_dom_classes": [],
       "_model_module": "@jupyter-widgets/controls",
       "_model_module_version": "2.0.0",
       "_model_name": "HTMLModel",
       "_view_count": null,
       "_view_module": "@jupyter-widgets/controls",
       "_view_module_version": "2.0.0",
       "_view_name": "HTMLView",
       "description": "",
       "description_allow_html": false,
       "layout": "IPY_MODEL_5eb286881fd04a52906bf13b09958797",
       "placeholder": "​",
       "style": "IPY_MODEL_e444b3d2361b42389d5b03c6fbba3e9f",
       "tabbable": null,
       "tooltip": null,
       "value": " 900/900 [00:00&lt;00:00, 55742.37 examples/s]"
      }
     },
     "b886251e2e9549e9bbc04cba02b12fa9": {
      "model_module": "@jupyter-widgets/controls",
      "model_module_version": "2.0.0",
      "model_name": "HTMLStyleModel",
      "state": {
       "_model_module": "@jupyter-widgets/controls",
       "_model_module_version": "2.0.0",
       "_model_name": "HTMLStyleModel",
       "_view_count": null,
       "_view_module": "@jupyter-widgets/base",
       "_view_module_version": "2.0.0",
       "_view_name": "StyleView",
       "background": null,
       "description_width": "",
       "font_size": null,
       "text_color": null
      }
     },
     "b9fae96897664f8a83e13ae70fe54923": {
      "model_module": "@jupyter-widgets/base",
      "model_module_version": "2.0.0",
      "model_name": "LayoutModel",
      "state": {
       "_model_module": "@jupyter-widgets/base",
       "_model_module_version": "2.0.0",
       "_model_name": "LayoutModel",
       "_view_count": null,
       "_view_module": "@jupyter-widgets/base",
       "_view_module_version": "2.0.0",
       "_view_name": "LayoutView",
       "align_content": null,
       "align_items": null,
       "align_self": null,
       "border_bottom": null,
       "border_left": null,
       "border_right": null,
       "border_top": null,
       "bottom": null,
       "display": null,
       "flex": null,
       "flex_flow": null,
       "grid_area": null,
       "grid_auto_columns": null,
       "grid_auto_flow": null,
       "grid_auto_rows": null,
       "grid_column": null,
       "grid_gap": null,
       "grid_row": null,
       "grid_template_areas": null,
       "grid_template_columns": null,
       "grid_template_rows": null,
       "height": null,
       "justify_content": null,
       "justify_items": null,
       "left": null,
       "margin": null,
       "max_height": null,
       "max_width": null,
       "min_height": null,
       "min_width": null,
       "object_fit": null,
       "object_position": null,
       "order": null,
       "overflow": null,
       "padding": null,
       "right": null,
       "top": null,
       "visibility": null,
       "width": null
      }
     },
     "bd5734c00a424ddd92768abafb2e3e67": {
      "model_module": "@jupyter-widgets/controls",
      "model_module_version": "2.0.0",
      "model_name": "HTMLStyleModel",
      "state": {
       "_model_module": "@jupyter-widgets/controls",
       "_model_module_version": "2.0.0",
       "_model_name": "HTMLStyleModel",
       "_view_count": null,
       "_view_module": "@jupyter-widgets/base",
       "_view_module_version": "2.0.0",
       "_view_name": "StyleView",
       "background": null,
       "description_width": "",
       "font_size": null,
       "text_color": null
      }
     },
     "bfa1fcd0ea5e4f329e0324677be68665": {
      "model_module": "@jupyter-widgets/controls",
      "model_module_version": "2.0.0",
      "model_name": "HTMLModel",
      "state": {
       "_dom_classes": [],
       "_model_module": "@jupyter-widgets/controls",
       "_model_module_version": "2.0.0",
       "_model_name": "HTMLModel",
       "_view_count": null,
       "_view_module": "@jupyter-widgets/controls",
       "_view_module_version": "2.0.0",
       "_view_name": "HTMLView",
       "description": "",
       "description_allow_html": false,
       "layout": "IPY_MODEL_985919eb0f0941fcaebb5e4c733a6716",
       "placeholder": "​",
       "style": "IPY_MODEL_c5c63fb2f88948939f500227b1fac02b",
       "tabbable": null,
       "tooltip": null,
       "value": " 900/900 [00:00&lt;00:00, 26584.37 examples/s]"
      }
     },
     "c1b0a75c05ae4239aa41869ca1771616": {
      "model_module": "@jupyter-widgets/base",
      "model_module_version": "2.0.0",
      "model_name": "LayoutModel",
      "state": {
       "_model_module": "@jupyter-widgets/base",
       "_model_module_version": "2.0.0",
       "_model_name": "LayoutModel",
       "_view_count": null,
       "_view_module": "@jupyter-widgets/base",
       "_view_module_version": "2.0.0",
       "_view_name": "LayoutView",
       "align_content": null,
       "align_items": null,
       "align_self": null,
       "border_bottom": null,
       "border_left": null,
       "border_right": null,
       "border_top": null,
       "bottom": null,
       "display": null,
       "flex": null,
       "flex_flow": null,
       "grid_area": null,
       "grid_auto_columns": null,
       "grid_auto_flow": null,
       "grid_auto_rows": null,
       "grid_column": null,
       "grid_gap": null,
       "grid_row": null,
       "grid_template_areas": null,
       "grid_template_columns": null,
       "grid_template_rows": null,
       "height": null,
       "justify_content": null,
       "justify_items": null,
       "left": null,
       "margin": null,
       "max_height": null,
       "max_width": null,
       "min_height": null,
       "min_width": null,
       "object_fit": null,
       "object_position": null,
       "order": null,
       "overflow": null,
       "padding": null,
       "right": null,
       "top": null,
       "visibility": null,
       "width": null
      }
     },
     "c27dd35e22fb4c479cb9ee2c090a3bb9": {
      "model_module": "@jupyter-widgets/controls",
      "model_module_version": "2.0.0",
      "model_name": "HTMLModel",
      "state": {
       "_dom_classes": [],
       "_model_module": "@jupyter-widgets/controls",
       "_model_module_version": "2.0.0",
       "_model_name": "HTMLModel",
       "_view_count": null,
       "_view_module": "@jupyter-widgets/controls",
       "_view_module_version": "2.0.0",
       "_view_name": "HTMLView",
       "description": "",
       "description_allow_html": false,
       "layout": "IPY_MODEL_383a5e138319476ab83aa58cc67996dc",
       "placeholder": "​",
       "style": "IPY_MODEL_89cbbd9e54084f719ebb7348a312afd2",
       "tabbable": null,
       "tooltip": null,
       "value": " 150/150 [00:00&lt;00:00, 2116.56 examples/s]"
      }
     },
     "c5c63fb2f88948939f500227b1fac02b": {
      "model_module": "@jupyter-widgets/controls",
      "model_module_version": "2.0.0",
      "model_name": "HTMLStyleModel",
      "state": {
       "_model_module": "@jupyter-widgets/controls",
       "_model_module_version": "2.0.0",
       "_model_name": "HTMLStyleModel",
       "_view_count": null,
       "_view_module": "@jupyter-widgets/base",
       "_view_module_version": "2.0.0",
       "_view_name": "StyleView",
       "background": null,
       "description_width": "",
       "font_size": null,
       "text_color": null
      }
     },
     "c8579ca1a19743c1a693c1d0078cc6b5": {
      "model_module": "@jupyter-widgets/controls",
      "model_module_version": "2.0.0",
      "model_name": "FloatProgressModel",
      "state": {
       "_dom_classes": [],
       "_model_module": "@jupyter-widgets/controls",
       "_model_module_version": "2.0.0",
       "_model_name": "FloatProgressModel",
       "_view_count": null,
       "_view_module": "@jupyter-widgets/controls",
       "_view_module_version": "2.0.0",
       "_view_name": "ProgressView",
       "bar_style": "success",
       "description": "",
       "description_allow_html": false,
       "layout": "IPY_MODEL_c1b0a75c05ae4239aa41869ca1771616",
       "max": 150.0,
       "min": 0.0,
       "orientation": "horizontal",
       "style": "IPY_MODEL_acb8c52645f844e090be405f9a1e9d76",
       "tabbable": null,
       "tooltip": null,
       "value": 150.0
      }
     },
     "c87992bc59654b1eac8485373bebe374": {
      "model_module": "@jupyter-widgets/controls",
      "model_module_version": "2.0.0",
      "model_name": "HTMLStyleModel",
      "state": {
       "_model_module": "@jupyter-widgets/controls",
       "_model_module_version": "2.0.0",
       "_model_name": "HTMLStyleModel",
       "_view_count": null,
       "_view_module": "@jupyter-widgets/base",
       "_view_module_version": "2.0.0",
       "_view_name": "StyleView",
       "background": null,
       "description_width": "",
       "font_size": null,
       "text_color": null
      }
     },
     "c95430e6c444498ba7b2a90df50caef5": {
      "model_module": "@jupyter-widgets/controls",
      "model_module_version": "2.0.0",
      "model_name": "FloatProgressModel",
      "state": {
       "_dom_classes": [],
       "_model_module": "@jupyter-widgets/controls",
       "_model_module_version": "2.0.0",
       "_model_name": "FloatProgressModel",
       "_view_count": null,
       "_view_module": "@jupyter-widgets/controls",
       "_view_module_version": "2.0.0",
       "_view_name": "ProgressView",
       "bar_style": "success",
       "description": "",
       "description_allow_html": false,
       "layout": "IPY_MODEL_52d6014a513a43aea71ccd025e352f30",
       "max": 900.0,
       "min": 0.0,
       "orientation": "horizontal",
       "style": "IPY_MODEL_6e671006337c49f3b7c60850a7a1fc27",
       "tabbable": null,
       "tooltip": null,
       "value": 900.0
      }
     },
     "d3d8bcde166e4a1ba745e723da68eea2": {
      "model_module": "@jupyter-widgets/controls",
      "model_module_version": "2.0.0",
      "model_name": "HTMLStyleModel",
      "state": {
       "_model_module": "@jupyter-widgets/controls",
       "_model_module_version": "2.0.0",
       "_model_name": "HTMLStyleModel",
       "_view_count": null,
       "_view_module": "@jupyter-widgets/base",
       "_view_module_version": "2.0.0",
       "_view_name": "StyleView",
       "background": null,
       "description_width": "",
       "font_size": null,
       "text_color": null
      }
     },
     "d433ee00e73840df8e33b93ff37f90b6": {
      "model_module": "@jupyter-widgets/controls",
      "model_module_version": "2.0.0",
      "model_name": "HTMLModel",
      "state": {
       "_dom_classes": [],
       "_model_module": "@jupyter-widgets/controls",
       "_model_module_version": "2.0.0",
       "_model_name": "HTMLModel",
       "_view_count": null,
       "_view_module": "@jupyter-widgets/controls",
       "_view_module_version": "2.0.0",
       "_view_name": "HTMLView",
       "description": "",
       "description_allow_html": false,
       "layout": "IPY_MODEL_61691e16f8534a35abe16c736465ebe1",
       "placeholder": "​",
       "style": "IPY_MODEL_c87992bc59654b1eac8485373bebe374",
       "tabbable": null,
       "tooltip": null,
       "value": "Applying chat template to eval dataset: 100%"
      }
     },
     "d5af236e8e3548549944244b3334501f": {
      "model_module": "@jupyter-widgets/base",
      "model_module_version": "2.0.0",
      "model_name": "LayoutModel",
      "state": {
       "_model_module": "@jupyter-widgets/base",
       "_model_module_version": "2.0.0",
       "_model_name": "LayoutModel",
       "_view_count": null,
       "_view_module": "@jupyter-widgets/base",
       "_view_module_version": "2.0.0",
       "_view_name": "LayoutView",
       "align_content": null,
       "align_items": null,
       "align_self": null,
       "border_bottom": null,
       "border_left": null,
       "border_right": null,
       "border_top": null,
       "bottom": null,
       "display": null,
       "flex": null,
       "flex_flow": null,
       "grid_area": null,
       "grid_auto_columns": null,
       "grid_auto_flow": null,
       "grid_auto_rows": null,
       "grid_column": null,
       "grid_gap": null,
       "grid_row": null,
       "grid_template_areas": null,
       "grid_template_columns": null,
       "grid_template_rows": null,
       "height": null,
       "justify_content": null,
       "justify_items": null,
       "left": null,
       "margin": null,
       "max_height": null,
       "max_width": null,
       "min_height": null,
       "min_width": null,
       "object_fit": null,
       "object_position": null,
       "order": null,
       "overflow": null,
       "padding": null,
       "right": null,
       "top": null,
       "visibility": null,
       "width": null
      }
     },
     "db6d746b60024d86bad983a5d457ab8d": {
      "model_module": "@jupyter-widgets/base",
      "model_module_version": "2.0.0",
      "model_name": "LayoutModel",
      "state": {
       "_model_module": "@jupyter-widgets/base",
       "_model_module_version": "2.0.0",
       "_model_name": "LayoutModel",
       "_view_count": null,
       "_view_module": "@jupyter-widgets/base",
       "_view_module_version": "2.0.0",
       "_view_name": "LayoutView",
       "align_content": null,
       "align_items": null,
       "align_self": null,
       "border_bottom": null,
       "border_left": null,
       "border_right": null,
       "border_top": null,
       "bottom": null,
       "display": null,
       "flex": null,
       "flex_flow": null,
       "grid_area": null,
       "grid_auto_columns": null,
       "grid_auto_flow": null,
       "grid_auto_rows": null,
       "grid_column": null,
       "grid_gap": null,
       "grid_row": null,
       "grid_template_areas": null,
       "grid_template_columns": null,
       "grid_template_rows": null,
       "height": null,
       "justify_content": null,
       "justify_items": null,
       "left": null,
       "margin": null,
       "max_height": null,
       "max_width": null,
       "min_height": null,
       "min_width": null,
       "object_fit": null,
       "object_position": null,
       "order": null,
       "overflow": null,
       "padding": null,
       "right": null,
       "top": null,
       "visibility": null,
       "width": null
      }
     },
     "dd50004b052f4d708d1b49ebad73900e": {
      "model_module": "@jupyter-widgets/controls",
      "model_module_version": "2.0.0",
      "model_name": "HTMLModel",
      "state": {
       "_dom_classes": [],
       "_model_module": "@jupyter-widgets/controls",
       "_model_module_version": "2.0.0",
       "_model_name": "HTMLModel",
       "_view_count": null,
       "_view_module": "@jupyter-widgets/controls",
       "_view_module_version": "2.0.0",
       "_view_name": "HTMLView",
       "description": "",
       "description_allow_html": false,
       "layout": "IPY_MODEL_46802eafbe0a4347be97e0afa49b52da",
       "placeholder": "​",
       "style": "IPY_MODEL_ed23bc5c4ba94442b865ad3feadf262e",
       "tabbable": null,
       "tooltip": null,
       "value": " 900/900 [00:00&lt;00:00, 19522.01 examples/s]"
      }
     },
     "dde5c6fb17b643338e2141c4743b90c8": {
      "model_module": "@jupyter-widgets/base",
      "model_module_version": "2.0.0",
      "model_name": "LayoutModel",
      "state": {
       "_model_module": "@jupyter-widgets/base",
       "_model_module_version": "2.0.0",
       "_model_name": "LayoutModel",
       "_view_count": null,
       "_view_module": "@jupyter-widgets/base",
       "_view_module_version": "2.0.0",
       "_view_name": "LayoutView",
       "align_content": null,
       "align_items": null,
       "align_self": null,
       "border_bottom": null,
       "border_left": null,
       "border_right": null,
       "border_top": null,
       "bottom": null,
       "display": null,
       "flex": null,
       "flex_flow": null,
       "grid_area": null,
       "grid_auto_columns": null,
       "grid_auto_flow": null,
       "grid_auto_rows": null,
       "grid_column": null,
       "grid_gap": null,
       "grid_row": null,
       "grid_template_areas": null,
       "grid_template_columns": null,
       "grid_template_rows": null,
       "height": null,
       "justify_content": null,
       "justify_items": null,
       "left": null,
       "margin": null,
       "max_height": null,
       "max_width": null,
       "min_height": null,
       "min_width": null,
       "object_fit": null,
       "object_position": null,
       "order": null,
       "overflow": null,
       "padding": null,
       "right": null,
       "top": null,
       "visibility": null,
       "width": null
      }
     },
     "de3f6b6071af430fb4768194cb571ef2": {
      "model_module": "@jupyter-widgets/base",
      "model_module_version": "2.0.0",
      "model_name": "LayoutModel",
      "state": {
       "_model_module": "@jupyter-widgets/base",
       "_model_module_version": "2.0.0",
       "_model_name": "LayoutModel",
       "_view_count": null,
       "_view_module": "@jupyter-widgets/base",
       "_view_module_version": "2.0.0",
       "_view_name": "LayoutView",
       "align_content": null,
       "align_items": null,
       "align_self": null,
       "border_bottom": null,
       "border_left": null,
       "border_right": null,
       "border_top": null,
       "bottom": null,
       "display": null,
       "flex": null,
       "flex_flow": null,
       "grid_area": null,
       "grid_auto_columns": null,
       "grid_auto_flow": null,
       "grid_auto_rows": null,
       "grid_column": null,
       "grid_gap": null,
       "grid_row": null,
       "grid_template_areas": null,
       "grid_template_columns": null,
       "grid_template_rows": null,
       "height": null,
       "justify_content": null,
       "justify_items": null,
       "left": null,
       "margin": null,
       "max_height": null,
       "max_width": null,
       "min_height": null,
       "min_width": null,
       "object_fit": null,
       "object_position": null,
       "order": null,
       "overflow": null,
       "padding": null,
       "right": null,
       "top": null,
       "visibility": null,
       "width": null
      }
     },
     "e444b3d2361b42389d5b03c6fbba3e9f": {
      "model_module": "@jupyter-widgets/controls",
      "model_module_version": "2.0.0",
      "model_name": "HTMLStyleModel",
      "state": {
       "_model_module": "@jupyter-widgets/controls",
       "_model_module_version": "2.0.0",
       "_model_name": "HTMLStyleModel",
       "_view_count": null,
       "_view_module": "@jupyter-widgets/base",
       "_view_module_version": "2.0.0",
       "_view_name": "StyleView",
       "background": null,
       "description_width": "",
       "font_size": null,
       "text_color": null
      }
     },
     "ec287a9f82384fd782be1c71e6b44c76": {
      "model_module": "@jupyter-widgets/controls",
      "model_module_version": "2.0.0",
      "model_name": "HTMLModel",
      "state": {
       "_dom_classes": [],
       "_model_module": "@jupyter-widgets/controls",
       "_model_module_version": "2.0.0",
       "_model_name": "HTMLModel",
       "_view_count": null,
       "_view_module": "@jupyter-widgets/controls",
       "_view_module_version": "2.0.0",
       "_view_name": "HTMLView",
       "description": "",
       "description_allow_html": false,
       "layout": "IPY_MODEL_db6d746b60024d86bad983a5d457ab8d",
       "placeholder": "​",
       "style": "IPY_MODEL_93eb70579ff645aba01e836f69be829b",
       "tabbable": null,
       "tooltip": null,
       "value": "Converting eval dataset to ChatML: 100%"
      }
     },
     "ed23bc5c4ba94442b865ad3feadf262e": {
      "model_module": "@jupyter-widgets/controls",
      "model_module_version": "2.0.0",
      "model_name": "HTMLStyleModel",
      "state": {
       "_model_module": "@jupyter-widgets/controls",
       "_model_module_version": "2.0.0",
       "_model_name": "HTMLStyleModel",
       "_view_count": null,
       "_view_module": "@jupyter-widgets/base",
       "_view_module_version": "2.0.0",
       "_view_name": "StyleView",
       "background": null,
       "description_width": "",
       "font_size": null,
       "text_color": null
      }
     },
     "ee51aa0fe6504599af5c6fb75051f39c": {
      "model_module": "@jupyter-widgets/base",
      "model_module_version": "2.0.0",
      "model_name": "LayoutModel",
      "state": {
       "_model_module": "@jupyter-widgets/base",
       "_model_module_version": "2.0.0",
       "_model_name": "LayoutModel",
       "_view_count": null,
       "_view_module": "@jupyter-widgets/base",
       "_view_module_version": "2.0.0",
       "_view_name": "LayoutView",
       "align_content": null,
       "align_items": null,
       "align_self": null,
       "border_bottom": null,
       "border_left": null,
       "border_right": null,
       "border_top": null,
       "bottom": null,
       "display": null,
       "flex": null,
       "flex_flow": null,
       "grid_area": null,
       "grid_auto_columns": null,
       "grid_auto_flow": null,
       "grid_auto_rows": null,
       "grid_column": null,
       "grid_gap": null,
       "grid_row": null,
       "grid_template_areas": null,
       "grid_template_columns": null,
       "grid_template_rows": null,
       "height": null,
       "justify_content": null,
       "justify_items": null,
       "left": null,
       "margin": null,
       "max_height": null,
       "max_width": null,
       "min_height": null,
       "min_width": null,
       "object_fit": null,
       "object_position": null,
       "order": null,
       "overflow": null,
       "padding": null,
       "right": null,
       "top": null,
       "visibility": null,
       "width": null
      }
     },
     "f07503c5b23140469888b7178792a490": {
      "model_module": "@jupyter-widgets/controls",
      "model_module_version": "2.0.0",
      "model_name": "HTMLStyleModel",
      "state": {
       "_model_module": "@jupyter-widgets/controls",
       "_model_module_version": "2.0.0",
       "_model_name": "HTMLStyleModel",
       "_view_count": null,
       "_view_module": "@jupyter-widgets/base",
       "_view_module_version": "2.0.0",
       "_view_name": "StyleView",
       "background": null,
       "description_width": "",
       "font_size": null,
       "text_color": null
      }
     },
     "f2a829e16ad5408eaf7fd821ed051fad": {
      "model_module": "@jupyter-widgets/base",
      "model_module_version": "2.0.0",
      "model_name": "LayoutModel",
      "state": {
       "_model_module": "@jupyter-widgets/base",
       "_model_module_version": "2.0.0",
       "_model_name": "LayoutModel",
       "_view_count": null,
       "_view_module": "@jupyter-widgets/base",
       "_view_module_version": "2.0.0",
       "_view_name": "LayoutView",
       "align_content": null,
       "align_items": null,
       "align_self": null,
       "border_bottom": null,
       "border_left": null,
       "border_right": null,
       "border_top": null,
       "bottom": null,
       "display": null,
       "flex": null,
       "flex_flow": null,
       "grid_area": null,
       "grid_auto_columns": null,
       "grid_auto_flow": null,
       "grid_auto_rows": null,
       "grid_column": null,
       "grid_gap": null,
       "grid_row": null,
       "grid_template_areas": null,
       "grid_template_columns": null,
       "grid_template_rows": null,
       "height": null,
       "justify_content": null,
       "justify_items": null,
       "left": null,
       "margin": null,
       "max_height": null,
       "max_width": null,
       "min_height": null,
       "min_width": null,
       "object_fit": null,
       "object_position": null,
       "order": null,
       "overflow": null,
       "padding": null,
       "right": null,
       "top": null,
       "visibility": null,
       "width": null
      }
     },
     "f2b08989aafa45a38fb621cc3ab8e4bf": {
      "model_module": "@jupyter-widgets/controls",
      "model_module_version": "2.0.0",
      "model_name": "ProgressStyleModel",
      "state": {
       "_model_module": "@jupyter-widgets/controls",
       "_model_module_version": "2.0.0",
       "_model_name": "ProgressStyleModel",
       "_view_count": null,
       "_view_module": "@jupyter-widgets/base",
       "_view_module_version": "2.0.0",
       "_view_name": "StyleView",
       "bar_color": null,
       "description_width": ""
      }
     },
     "f2b53d4f68db4e0da90b73053f03f2ac": {
      "model_module": "@jupyter-widgets/controls",
      "model_module_version": "2.0.0",
      "model_name": "HBoxModel",
      "state": {
       "_dom_classes": [],
       "_model_module": "@jupyter-widgets/controls",
       "_model_module_version": "2.0.0",
       "_model_name": "HBoxModel",
       "_view_count": null,
       "_view_module": "@jupyter-widgets/controls",
       "_view_module_version": "2.0.0",
       "_view_name": "HBoxView",
       "box_style": "",
       "children": [
        "IPY_MODEL_2fd4234014f640ba90df203c6146f03d",
        "IPY_MODEL_1afb0a802691421fba235950328d8608",
        "IPY_MODEL_c27dd35e22fb4c479cb9ee2c090a3bb9"
       ],
       "layout": "IPY_MODEL_7e44868811f9437d88047201e1378915",
       "tabbable": null,
       "tooltip": null
      }
     },
     "f2c2b377306d426097369b4fbb2cfc05": {
      "model_module": "@jupyter-widgets/controls",
      "model_module_version": "2.0.0",
      "model_name": "HTMLStyleModel",
      "state": {
       "_model_module": "@jupyter-widgets/controls",
       "_model_module_version": "2.0.0",
       "_model_name": "HTMLStyleModel",
       "_view_count": null,
       "_view_module": "@jupyter-widgets/base",
       "_view_module_version": "2.0.0",
       "_view_name": "StyleView",
       "background": null,
       "description_width": "",
       "font_size": null,
       "text_color": null
      }
     },
     "f3fb19fc50534b10a400cf2f8fdf503c": {
      "model_module": "@jupyter-widgets/controls",
      "model_module_version": "2.0.0",
      "model_name": "HTMLModel",
      "state": {
       "_dom_classes": [],
       "_model_module": "@jupyter-widgets/controls",
       "_model_module_version": "2.0.0",
       "_model_name": "HTMLModel",
       "_view_count": null,
       "_view_module": "@jupyter-widgets/controls",
       "_view_module_version": "2.0.0",
       "_view_name": "HTMLView",
       "description": "",
       "description_allow_html": false,
       "layout": "IPY_MODEL_7b1865c327ca487daece1c10de08b852",
       "placeholder": "​",
       "style": "IPY_MODEL_2d3e187b81fd4cc6a007041fdbf7f19d",
       "tabbable": null,
       "tooltip": null,
       "value": "Applying chat template to train dataset: 100%"
      }
     },
     "f755a3184f034612b64a9b674b912a64": {
      "model_module": "@jupyter-widgets/base",
      "model_module_version": "2.0.0",
      "model_name": "LayoutModel",
      "state": {
       "_model_module": "@jupyter-widgets/base",
       "_model_module_version": "2.0.0",
       "_model_name": "LayoutModel",
       "_view_count": null,
       "_view_module": "@jupyter-widgets/base",
       "_view_module_version": "2.0.0",
       "_view_name": "LayoutView",
       "align_content": null,
       "align_items": null,
       "align_self": null,
       "border_bottom": null,
       "border_left": null,
       "border_right": null,
       "border_top": null,
       "bottom": null,
       "display": null,
       "flex": null,
       "flex_flow": null,
       "grid_area": null,
       "grid_auto_columns": null,
       "grid_auto_flow": null,
       "grid_auto_rows": null,
       "grid_column": null,
       "grid_gap": null,
       "grid_row": null,
       "grid_template_areas": null,
       "grid_template_columns": null,
       "grid_template_rows": null,
       "height": null,
       "justify_content": null,
       "justify_items": null,
       "left": null,
       "margin": null,
       "max_height": null,
       "max_width": null,
       "min_height": null,
       "min_width": null,
       "object_fit": null,
       "object_position": null,
       "order": null,
       "overflow": null,
       "padding": null,
       "right": null,
       "top": null,
       "visibility": null,
       "width": null
      }
     },
     "f804f3cd0d3146418d0735eceb9feed4": {
      "model_module": "@jupyter-widgets/controls",
      "model_module_version": "2.0.0",
      "model_name": "FloatProgressModel",
      "state": {
       "_dom_classes": [],
       "_model_module": "@jupyter-widgets/controls",
       "_model_module_version": "2.0.0",
       "_model_name": "FloatProgressModel",
       "_view_count": null,
       "_view_module": "@jupyter-widgets/controls",
       "_view_module_version": "2.0.0",
       "_view_name": "ProgressView",
       "bar_style": "success",
       "description": "",
       "description_allow_html": false,
       "layout": "IPY_MODEL_aee2201cc2224d35867537958206ff03",
       "max": 150.0,
       "min": 0.0,
       "orientation": "horizontal",
       "style": "IPY_MODEL_1c2d3d47f703458a9c46afc8d07c0ed1",
       "tabbable": null,
       "tooltip": null,
       "value": 150.0
      }
     },
     "f97869f02184467393577628b239a2b2": {
      "model_module": "@jupyter-widgets/controls",
      "model_module_version": "2.0.0",
      "model_name": "HBoxModel",
      "state": {
       "_dom_classes": [],
       "_model_module": "@jupyter-widgets/controls",
       "_model_module_version": "2.0.0",
       "_model_name": "HBoxModel",
       "_view_count": null,
       "_view_module": "@jupyter-widgets/controls",
       "_view_module_version": "2.0.0",
       "_view_name": "HBoxView",
       "box_style": "",
       "children": [
        "IPY_MODEL_34f2db94fbeb4b4ba4027de697de3947",
        "IPY_MODEL_f804f3cd0d3146418d0735eceb9feed4",
        "IPY_MODEL_3ded8fd0159c425db0ae0e28c94e6716"
       ],
       "layout": "IPY_MODEL_d5af236e8e3548549944244b3334501f",
       "tabbable": null,
       "tooltip": null
      }
     }
    },
    "version_major": 2,
    "version_minor": 0
   }
  }
 },
 "nbformat": 4,
 "nbformat_minor": 5
}
